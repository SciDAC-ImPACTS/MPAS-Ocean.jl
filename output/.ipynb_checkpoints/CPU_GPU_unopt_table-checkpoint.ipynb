{
 "cells": [
  {
   "cell_type": "code",
   "execution_count": 12,
   "id": "61369644-192f-413b-a173-4e87a365c70f",
   "metadata": {},
   "outputs": [],
   "source": [
    "using DelimitedFiles\n",
    "using DataFrames"
   ]
  },
  {
   "cell_type": "code",
   "execution_count": 2,
   "id": "53544aea-d221-494c-966d-ab990837b703",
   "metadata": {
    "mosaic": []
   },
   "outputs": [
    {
     "data": {
      "text/plain": [
       "latestfile (generic function with 1 method)"
      ]
     },
     "execution_count": 2,
     "metadata": {},
     "output_type": "execute_result"
    }
   ],
   "source": [
    "function latestfile(dir, filterfunc)\n",
    "    return filter(filterfunc, readdir(dir, join=true))[end]\n",
    "end"
   ]
  },
  {
   "cell_type": "markdown",
   "id": "4ad10145-a8b8-473b-ad9e-5b65042cf04a",
   "metadata": {},
   "source": [
    "# rusty pc timings (asrock)"
   ]
  },
  {
   "cell_type": "code",
   "execution_count": 24,
   "id": "ff26c836-dab4-46c6-9b4e-75fb2a81d56f",
   "metadata": {},
   "outputs": [],
   "source": [
    "table = DataFrame(architectures=[\"CPU unoptimized\", \"CPU\", \"GPU\"], x128=zeros(3), x256=zeros(3), x512=zeros(3))\n",
    "\n",
    "for nCellsX in [128, 256, 512]\n",
    "    sampletimes = readdlm(latestfile(\"/home/rrs/Desktop/MPAS/MPAS_Ocean_Julia/output/asrock/serialCPU_timing/coastal_kelvinwave/unoptimized/steps_10/resolution_$(nCellsX)x$(nCellsX)/\", x -> x[end-3:end] == \".txt\"))\n",
    "    table[1,\"x\"*string(nCellsX)] = sum(sampletimes)/length(sampletimes)\n",
    "    \n",
    "    for (i, device) in enumerate([\"CPU\", \"GPU\"])\n",
    "            sampletimes = readdlm(latestfile(\"/home/rrs/Desktop/MPAS/MPAS_Ocean_Julia/output/asrock/serial$(device)_timing/coastal_kelvinwave/steps_10/resolution_$(nCellsX)x$(nCellsX)/\", x -> x[end-3:end] == \".txt\"))\n",
    "            table[i+1,\"x\"*string(nCellsX)] = sum(sampletimes/length(sampletimes))\n",
    "    end\n",
    "end\n"
   ]
  },
  {
   "cell_type": "code",
   "execution_count": 25,
   "id": "03886c08-9b1b-4215-b84c-5328053a3073",
   "metadata": {},
   "outputs": [
    {
     "data": {
      "text/html": [
       "<div class=\"data-frame\"><p>3 rows × 4 columns</p><table class=\"data-frame\"><thead><tr><th></th><th>architectures</th><th>x128</th><th>x256</th><th>x512</th></tr><tr><th></th><th title=\"String\">String</th><th title=\"Float64\">Float64</th><th title=\"Float64\">Float64</th><th title=\"Float64\">Float64</th></tr></thead><tbody><tr><th>1</th><td>CPU unoptimized</td><td>1.63908</td><td>6.22893</td><td>28.7123</td></tr><tr><th>2</th><td>CPU</td><td>0.0789062</td><td>0.345394</td><td>3.14164</td></tr><tr><th>3</th><td>GPU</td><td>6.32715e-5</td><td>6.412e-5</td><td>6.45317e-5</td></tr></tbody></table></div>"
      ],
      "text/latex": [
       "\\begin{tabular}{r|cccc}\n",
       "\t& architectures & x128 & x256 & x512\\\\\n",
       "\t\\hline\n",
       "\t& String & Float64 & Float64 & Float64\\\\\n",
       "\t\\hline\n",
       "\t1 & CPU unoptimized & 1.63908 & 6.22893 & 28.7123 \\\\\n",
       "\t2 & CPU & 0.0789062 & 0.345394 & 3.14164 \\\\\n",
       "\t3 & GPU & 6.32715e-5 & 6.412e-5 & 6.45317e-5 \\\\\n",
       "\\end{tabular}\n"
      ],
      "text/plain": [
       "\u001b[1m3×4 DataFrame\u001b[0m\n",
       "\u001b[1m Row \u001b[0m│\u001b[1m architectures   \u001b[0m\u001b[1m x128       \u001b[0m\u001b[1m x256     \u001b[0m\u001b[1m x512        \u001b[0m\n",
       "\u001b[1m     \u001b[0m│\u001b[90m String          \u001b[0m\u001b[90m Float64    \u001b[0m\u001b[90m Float64  \u001b[0m\u001b[90m Float64     \u001b[0m\n",
       "─────┼────────────────────────────────────────────────────\n",
       "   1 │ CPU unoptimized  1.63908     6.22893   28.7123\n",
       "   2 │ CPU              0.0789062   0.345394   3.14164\n",
       "   3 │ GPU              6.32715e-5  6.412e-5   6.45317e-5"
      ]
     },
     "execution_count": 25,
     "metadata": {},
     "output_type": "execute_result"
    }
   ],
   "source": [
    "table"
   ]
  },
  {
   "cell_type": "markdown",
   "id": "6ab4011b-64fa-4401-a189-a92f0d7d482b",
   "metadata": {},
   "source": [
    "# cori timings"
   ]
  },
  {
   "cell_type": "code",
   "execution_count": 32,
   "id": "727facc8-5db8-48bc-ae02-9ee182a741ec",
   "metadata": {},
   "outputs": [],
   "source": [
    "table = DataFrame(architectures=[\"Python\", \"CPU unoptimized\", \"CPU\"], x128=zeros(3), x256=zeros(3), x512=zeros(3))\n",
    "\n",
    "for nCellsX in [128, 256, 512]\n",
    "    sampletimes = readdlm(latestfile(\"/home/rrs/Desktop/MPAS/MPAS_Ocean_Julia/output/serialCPU_timing/coastal_kelvinwave/unoptimized/steps_10/resolution_$(nCellsX)x$(nCellsX)/\", x -> x[end-3:end] == \".txt\"))\n",
    "    table[2,\"x\"*string(nCellsX)] = sum(sampletimes/length(sampletimes))\n",
    "    \n",
    "    sampletimes = readdlm(latestfile(\"/home/rrs/Desktop/MPAS/MPAS_Ocean_Julia/output/serialCPU_timing/coastal_kelvinwave/steps_10/resolution_$(nCellsX)x$(nCellsX)/\", x -> x[end-3:end] == \".txt\"))\n",
    "    table[3,\"x\"*string(nCellsX)] = sum(sampletimes/length(sampletimes))\n",
    "end"
   ]
  },
  {
   "cell_type": "code",
   "execution_count": 33,
   "id": "2efba9e9-dccd-4302-9654-8bdbb5a53264",
   "metadata": {},
   "outputs": [
    {
     "data": {
      "text/html": [
       "<div class=\"data-frame\"><p>3 rows × 4 columns</p><table class=\"data-frame\"><thead><tr><th></th><th>architectures</th><th>x128</th><th>x256</th><th>x512</th></tr><tr><th></th><th title=\"String\">String</th><th title=\"Float64\">Float64</th><th title=\"Float64\">Float64</th><th title=\"Float64\">Float64</th></tr></thead><tbody><tr><th>1</th><td>Python</td><td>0.0</td><td>0.0</td><td>0.0</td></tr><tr><th>2</th><td>CPU unoptimized</td><td>2.44963</td><td>9.87027</td><td>44.1938</td></tr><tr><th>3</th><td>CPU</td><td>0.123677</td><td>0.528882</td><td>2.63007</td></tr></tbody></table></div>"
      ],
      "text/latex": [
       "\\begin{tabular}{r|cccc}\n",
       "\t& architectures & x128 & x256 & x512\\\\\n",
       "\t\\hline\n",
       "\t& String & Float64 & Float64 & Float64\\\\\n",
       "\t\\hline\n",
       "\t1 & Python & 0.0 & 0.0 & 0.0 \\\\\n",
       "\t2 & CPU unoptimized & 2.44963 & 9.87027 & 44.1938 \\\\\n",
       "\t3 & CPU & 0.123677 & 0.528882 & 2.63007 \\\\\n",
       "\\end{tabular}\n"
      ],
      "text/plain": [
       "\u001b[1m3×4 DataFrame\u001b[0m\n",
       "\u001b[1m Row \u001b[0m│\u001b[1m architectures   \u001b[0m\u001b[1m x128     \u001b[0m\u001b[1m x256     \u001b[0m\u001b[1m x512     \u001b[0m\n",
       "\u001b[1m     \u001b[0m│\u001b[90m String          \u001b[0m\u001b[90m Float64  \u001b[0m\u001b[90m Float64  \u001b[0m\u001b[90m Float64  \u001b[0m\n",
       "─────┼───────────────────────────────────────────────\n",
       "   1 │ Python           0.0       0.0        0.0\n",
       "   2 │ CPU unoptimized  2.44963   9.87027   44.1938\n",
       "   3 │ CPU              0.123677  0.528882   2.63007"
      ]
     },
     "execution_count": 33,
     "metadata": {},
     "output_type": "execute_result"
    }
   ],
   "source": [
    "table"
   ]
  },
  {
   "cell_type": "code",
   "execution_count": null,
   "id": "f464d230-7238-448c-8c9e-152476ee9160",
   "metadata": {},
   "outputs": [],
   "source": []
  }
 ],
 "metadata": {
  "kernelspec": {
   "display_name": "Julia 1.6.1",
   "language": "julia",
   "name": "julia-1.6"
  },
  "language_info": {
   "file_extension": ".jl",
   "mimetype": "application/julia",
   "name": "julia",
   "version": "1.6.1"
  }
 },
 "nbformat": 4,
 "nbformat_minor": 5
}
