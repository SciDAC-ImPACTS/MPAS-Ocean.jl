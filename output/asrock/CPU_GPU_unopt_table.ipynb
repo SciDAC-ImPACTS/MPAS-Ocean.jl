{
 "cells": [
  {
   "cell_type": "code",
   "execution_count": 1,
   "id": "61369644-192f-413b-a173-4e87a365c70f",
   "metadata": {},
   "outputs": [],
   "source": [
    "using DelimitedFiles"
   ]
  },
  {
   "cell_type": "code",
   "execution_count": 2,
   "id": "53544aea-d221-494c-966d-ab990837b703",
   "metadata": {
    "mosaic": []
   },
   "outputs": [
    {
     "data": {
      "text/plain": [
       "latestfile (generic function with 1 method)"
      ]
     },
     "execution_count": 2,
     "metadata": {},
     "output_type": "execute_result"
    }
   ],
   "source": [
    "function latestfile(dir, filterfunc)\n",
    "    return filter(filterfunc, readdir(dir, join=true))[end]\n",
    "end"
   ]
  },
  {
   "cell_type": "code",
   "execution_count": 8,
   "id": "ff26c836-dab4-46c6-9b4e-75fb2a81d56f",
   "metadata": {},
   "outputs": [
    {
     "name": "stdout",
     "output_type": "stream",
     "text": [
      "CPU\t0.0789062012\t\t0.34539415570000004\t\t3.1416411381000002\t\t\n",
      "GPU\t6.32715e-5\t\t6.412e-5\t\t6.453169999999999e-5\t\t\n"
     ]
    }
   ],
   "source": [
    "for device in [\"CPU\", \"GPU\"]\n",
    "    print(device, \"\\t\")\n",
    "    for nCellsX in [128, 256, 512]\n",
    "        sampletimes = readdlm(latestfile(\"/home/rrs/Desktop/MPAS/MPAS_Ocean_Julia/output/asrock/serial$(device)_timing/coastal_kelvinwave/steps_10/resolution_$(nCellsX)x$(nCellsX)/\", x -> x[end-3:end] == \".txt\"))\n",
    "        print(sum(sampletimes)/length(sampletimes), \"\\t\\t\")\n",
    "    end\n",
    "    println()\n",
    "end"
   ]
  },
  {
   "cell_type": "code",
   "execution_count": null,
   "id": "03886c08-9b1b-4215-b84c-5328053a3073",
   "metadata": {},
   "outputs": [],
   "source": []
  }
 ],
 "metadata": {
  "kernelspec": {
   "display_name": "Julia 1.6.1",
   "language": "julia",
   "name": "julia-1.6"
  },
  "language_info": {
   "file_extension": ".jl",
   "mimetype": "application/julia",
   "name": "julia",
   "version": "1.6.1"
  }
 },
 "nbformat": 4,
 "nbformat_minor": 5
}
