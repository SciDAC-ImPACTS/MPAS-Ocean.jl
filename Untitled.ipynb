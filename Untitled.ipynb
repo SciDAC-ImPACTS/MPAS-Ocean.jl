{
 "cells": [
  {
   "cell_type": "markdown",
   "metadata": {},
   "source": [
    "# Optimizing Performance"
   ]
  },
  {
   "cell_type": "code",
   "execution_count": 1,
   "metadata": {},
   "outputs": [
    {
     "name": "stdout",
     "output_type": "stream",
     "text": [
      "    \u001b[36m\u001b[1mFetching:\u001b[22m\u001b[39m [========================================>]  100.0 %36m\u001b[1mFetching:\u001b[22m\u001b[39m [====>                                    ]  7.6 %]  40.0 %======================>                  ]  54.2 %\u001b[36m\u001b[1mFetching:\u001b[22m\u001b[39m [================================>        ]  79.9 %\u001b[36m\u001b[1mFetching:\u001b[22m\u001b[39m [==================================>      ]  82.7 %\u001b[36m\u001b[1mFetching:\u001b[22m\u001b[39m [=====================================>   ]  91.9 %\u001b[36m\u001b[1mFetching:\u001b[22m\u001b[39m [========================================>]  98.1 %\r"
     ]
    }
   ],
   "source": [
    "] add CUDA"
   ]
  },
  {
   "cell_type": "code",
   "execution_count": 5,
   "metadata": {},
   "outputs": [],
   "source": [
    "] add KernelAbstractions"
   ]
  },
  {
   "cell_type": "code",
   "execution_count": 26,
   "metadata": {},
   "outputs": [],
   "source": [
    "] add CUDAKernels"
   ]
  },
  {
   "cell_type": "code",
   "execution_count": 2,
   "metadata": {},
   "outputs": [],
   "source": [
    "using CUDA"
   ]
  },
  {
   "cell_type": "code",
   "execution_count": 6,
   "metadata": {},
   "outputs": [],
   "source": [
    "using KernelAbstractions"
   ]
  },
  {
   "cell_type": "code",
   "execution_count": 27,
   "metadata": {},
   "outputs": [],
   "source": [
    "using CUDAKernels"
   ]
  },
  {
   "cell_type": "code",
   "execution_count": 3,
   "metadata": {},
   "outputs": [
    {
     "name": "stderr",
     "output_type": "stream",
     "text": [
      "┌ Warning: The NVIDIA driver on this system only supports up to CUDA 11.1.0.\n",
      "│ For performance reasons, it is recommended to upgrade to a driver that supports CUDA 11.2 or higher.\n",
      "└ @ CUDA /home/rrs/.julia/packages/CUDA/Ozu5O/src/initialization.jl:42\n"
     ]
    },
    {
     "name": "stdout",
     "output_type": "stream",
     "text": [
      "CUDA toolkit 11.3.1, artifact installation\n",
      "CUDA driver 11.1.0\n",
      "NVIDIA driver 455.45.1\n",
      "\n",
      "Libraries: \n",
      "- CUBLAS: 11.5.1\n",
      "- CURAND: 10.2.4\n",
      "- CUFFT: 10.4.2\n",
      "- CUSOLVER: 11.1.2\n",
      "- CUSPARSE: 11.6.0\n",
      "- CUPTI: 14.0.0\n",
      "- NVML: 11.0.0+455.45.1\n",
      "- CUDNN: 8.20.0 (for CUDA 11.3.0)\n",
      "- CUTENSOR: 1.3.0 (for CUDA 11.2.0)\n",
      "\n",
      "Toolchain:\n",
      "- Julia: 1.6.1\n",
      "- LLVM: 11.0.1\n",
      "- PTX ISA support: 3.2, 4.0, 4.1, 4.2, 4.3, 5.0, 6.0, 6.1, 6.3, 6.4, 6.5, 7.0\n",
      "- Device capability support: sm_35, sm_37, sm_50, sm_52, sm_53, sm_60, sm_61, sm_62, sm_70, sm_72, sm_75, sm_80\n",
      "\n",
      "1 device:\n",
      "  0: GeForce GTX 1080 (sm_61, 7.259 GiB / 7.921 GiB available)\n"
     ]
    }
   ],
   "source": [
    "CUDA.versioninfo()"
   ]
  },
  {
   "cell_type": "code",
   "execution_count": null,
   "metadata": {},
   "outputs": [],
   "source": []
  },
  {
   "cell_type": "code",
   "execution_count": null,
   "metadata": {},
   "outputs": [],
   "source": []
  },
  {
   "cell_type": "code",
   "execution_count": null,
   "metadata": {},
   "outputs": [],
   "source": []
  },
  {
   "cell_type": "code",
   "execution_count": 12,
   "metadata": {},
   "outputs": [
    {
     "data": {
      "text/plain": [
       "DetermineCoriolisParameterAndBottomDepth (generic function with 1 method)"
      ]
     },
     "execution_count": 12,
     "metadata": {},
     "output_type": "execute_result"
    }
   ],
   "source": [
    "include(\"mode_init.jl\")"
   ]
  },
  {
   "cell_type": "code",
   "execution_count": 15,
   "metadata": {},
   "outputs": [
    {
     "data": {
      "text/plain": [
       "\"/home/rrs/Desktop/MPAS_Ocean/\""
      ]
     },
     "execution_count": 15,
     "metadata": {},
     "output_type": "execute_result"
    }
   ],
   "source": [
    "CODE_ROOT = pwd() * \"/\""
   ]
  },
  {
   "cell_type": "code",
   "execution_count": 16,
   "metadata": {},
   "outputs": [
    {
     "data": {
      "text/plain": [
       "MPAS_Ocean(2500, [0.0, 0.0, 0.0, 0.0, 0.0, 0.0, 0.0, 0.0, 0.0, 0.0  …  0.0, 0.0, 0.0, 0.0, 0.0, 0.0, 0.0, 0.0, 0.0, 0.0], [0.0, 0.0, 0.0, 0.0, 0.0, 0.0, 0.0, 0.0, 0.0, 0.0  …  0.0, 0.0, 0.0, 0.0, 0.0, 0.0, 0.0, 0.0, 0.0, 0.0], [1000.0, 1000.0, 1000.0, 1000.0, 1000.0, 1000.0, 1000.0, 1000.0, 1000.0, 1000.0  …  1000.0, 1000.0, 1000.0, 1000.0, 1000.0, 1000.0, 1000.0, 1000.0, 1000.0, 1000.0], [100 52 … 2450 2401; 50 51 … 2500 2451; … ; 2 2452 … 2498 2499; 51 3 … 2449 2450], [2639 2711 … 19 73; 4115 3463 … 7428 695; … ; 3873 4117 … 102 7428; 4223 4245 … 2285 4854], [1 104 … 5000 4902; 2 3 … 4999 4901; … ; 3 6 … 4998 5000; 102 5 … 4899 4801], [3 2 … 2 1; 3 3 … 2 1; … ; 3 2 … 3 1; 3 3 … 2 2], [6, 6, 6, 6, 6, 6, 6, 6, 6, 6  …  6, 6, 6, 6, 6, 6, 6, 6, 6, 6], Int8[-1 -1 … -1 -1; -1 -1 … -1 -1; … ; 1 -1 … 1 1; 1 1 … 1 1], [0.0, 0.0, 0.0, 0.0, 0.0, 0.0, 0.0, 0.0, 0.0, 0.0  …  0.0, 0.0, 0.0, 0.0, 0.0, 0.0, 0.0, 0.0, 0.0, 0.0], [0.0, 0.0, 0.0, 0.0, 0.0, 0.0, 0.0, 0.0, 0.0, 0.0  …  0.0, 0.0, 0.0, 0.0, 0.0, 0.0, 0.0, 0.0, 0.0, 0.0], [500.0, 1500.0, 2500.0, 3500.0, 4500.0, 5500.0, 6500.0, 7500.0, 8500.0, 9500.0  …  41000.0, 42000.0, 43000.0, 44000.0, 45000.0, 46000.0, 47000.0, 48000.0, 49000.0, 50000.0], [577.3502691896257, 577.3502691896257, 577.3502691896257, 577.3502691896257, 577.3502691896257, 577.3502691896257, 577.3502691896257, 577.3502691896257, 577.3502691896257, 577.3502691896257  …  43012.59505462711, 43012.59505462711, 43012.59505462711, 43012.59505462711, 43012.59505462711, 43012.59505462711, 43012.59505462711, 43012.59505462711, 43012.59505462711, 43012.59505462711], [866025.4037844387, 866025.4037844387, 866025.4037844387, 866025.4037844387, 866025.4037844386, 866025.4037844387, 866025.4037844387, 866025.4037844387, 866025.4037844387, 866025.4037844387  …  866025.4037844392, 866025.4037844392, 866025.4037844392, 866025.4037844392, 866025.4037844392, 866025.4037844392, 866025.4037844391, 866025.4037844392, 866025.4037844392, 866025.4037844392], [0.0001, 0.0001, 0.0001, 0.0001, 0.0001, 0.0001, 0.0001, 0.0001, 0.0001, 0.0001  …  0.0001, 0.0001, 0.0001, 0.0001, 0.0001, 0.0001, 0.0001, 0.0001, 0.0001, 0.0001], [0, 0, 0, 0, 0, 0, 0, 0, 0, 0  …  0, 0, 0, 0, 0, 0, 0, 0, 0, 0], [1000.0000000000003, 1000.0000000000003, 1000.0000000000003, 1000.0000000000003, 1000.0000000000003, 1000.0000000000003, 1000.0000000000003, 1000.0000000000003, 1000.0000000000003, 1000.0000000000003  …  999.9999999999992, 999.9999999999992, 999.9999999999992, 999.9999999999992, 999.9999999999992, 999.9999999999992, 999.9999999999994, 999.9999999999992, 999.9999999999992, 999.9999999999992], [0.0; 0.0; … ; 0.0; 0.0], 7500, [0.0, 0.0, 0.0, 0.0, 0.0, 0.0, 0.0, 0.0, 0.0, 0.0  …  0.0, 0.0, 0.0, 0.0, 0.0, 0.0, 0.0, 0.0, 0.0, 0.0], [0.0, 0.0, 0.0, 0.0, 0.0, 0.0, 0.0, 0.0, 0.0, 0.0  …  0.0, 0.0, 0.0, 0.0, 0.0, 0.0, 0.0, 0.0, 0.0, 0.0], [2497 2489 … 1979 1213; 2498 2490 … 2029 1214], [3325 4499 … 651 4375; 3668 5825 … 1814 2288; … ; 0 0 … 0 0; 0 0 … 0 0], [4996 4980 … 4060 2428; 4995 4979 … 3957 2427], [10, 10, 10, 10, 10, 10, 10, 10, 10, 10  …  10, 10, 10, 10, 10, 10, 10, 10, 10, 10], [47500.0, 39500.0, 38500.0, 37500.0, 35500.0, 34500.0, 29500.0, 28500.0, 24500.0, 23500.0  …  9750.0, 41000.0, 9750.0, 12250.0, 11000.0, 50250.0, 11750.0, 11250.0, 28750.0, 13000.0], [43012.59505462711, 43012.59505462711, 43012.59505462711, 43012.59505462711, 43012.59505462711, 43012.59505462711, 43012.59505462711, 43012.59505462711, 43012.59505462711, 43012.59505462711  …  24393.048873261687, 14433.756729740644, 21794.972661908374, 29589.20129596832, 21361.959960016153, 39981.50614138158, 21794.972661908374, 21794.972661908374, 34785.353718674945, 21361.959960016153], [577.3502691896283, 577.3502691896283, 577.3502691896283, 577.3502691896283, 577.3502691896283, 577.3502691896283, 577.3502691896283, 577.3502691896283, 577.3502691896283, 577.3502691896283  …  577.3502691896246, 577.3502691896247, 577.3502691896246, 577.3502691896246, 577.3502691896283, 577.3502691896264, 577.3502691896246, 577.3502691896246, 577.3502691896227, 577.3502691896283], [1000.0, 1000.0, 1000.0, 1000.0, 1000.0, 1000.0, 1000.0, 1000.0, 1000.0, 1000.0  …  1000.0000000000002, 1000.0, 1000.0000000000002, 1000.0000000000002, 1000.0, 1000.0000000000033, 1000.0000000000002, 1000.0000000000002, 999.9999999999969, 1000.0], [0.0001, 0.0001, 0.0001, 0.0001, 0.0001, 0.0001, 0.0001, 0.0001, 0.0001, 0.0001  …  0.0001, 0.0001, 0.0001, 0.0001, 0.0001, 0.0001, 0.0001, 0.0001, 0.0001, 0.0001], [0.0, 0.0, 0.0, 0.0, 0.0, 0.0, 0.0, 0.0, 0.0, 0.0  …  2.0943951023931953, 0.0, 1.0471975511965979, 1.0471975511965979, 0.0, 1.0471975511965976, 1.0471975511965979, 2.0943951023931953, 2.094395102393197, 0.0], [-0.19245008972987487 -0.19245008972987487 … -0.19245008972987748 0.19245008972987449; -0.09622504486493702 -0.09622504486493702 … -0.09622504486493845 0.09622504486493734; … ; 0.0 0.0 … 0.0 0.0; 0.0 0.0 … 0.0 0.0], [0, 0, 0, 0, 0, 0, 0, 0, 0, 0  …  0, 0, 0, 0, 0, 0, 0, 0, 0, 0], [0, 0, 0, 0, 0, 0, 0, 0, 0, 0  …  0, 0, 0, 0, 0, 0, 0, 0, 0, 0], Int8[0; 0; … ; 0; 0], Int8[0, 0, 0, 0, 0, 0, 0, 0, 0, 0  …  0, 0, 0, 0, 0, 0, 0, 0, 0, 0], 5000, [0.0, 0.0, 0.0, 0.0, 0.0, 0.0, 0.0, 0.0, 0.0, 0.0  …  0.0, 0.0, 0.0, 0.0, 0.0, 0.0, 0.0, 0.0, 0.0, 0.0], [0.0, 0.0, 0.0, 0.0, 0.0, 0.0, 0.0, 0.0, 0.0, 0.0  …  0.0, 0.0, 0.0, 0.0, 0.0, 0.0, 0.0, 0.0, 0.0, 0.0], [0.0, 0.0, 1000.0, 1000.0, 2000.0, 2000.0, 3000.0, 3000.0, 4000.0, 4000.0  …  45500.0, 45500.0, 46500.0, 46500.0, 47500.0, 47500.0, 48500.0, 48500.0, 49500.0, 49500.0], [866.0254037844386, 288.67513459481285, 866.0254037844386, 288.67513459481285, 866.0254037844386, 288.67513459481285, 866.0254037844386, 288.67513459481285, 866.0254037844386, 288.67513459481285  …  43301.27018922193, 42723.9199200323, 43301.27018922193, 42723.9199200323, 43301.27018922193, 42723.9199200323, 43301.27018922193, 42723.9199200323, 43301.27018922193, 42723.9199200323], 3, [100 2500 … 50 2450; 50 1 … 2499 2500; 1 50 … 2500 2499], [2639 3618 … 3618 19; 3997 5507 … 3928 4854; 4115 4115 … 7428 7428], Int8[1 -1 … 0 0; 1 -1 … 0 0; … ; -1 1 … 0 0; -1 1 … 0 0], [0.0001, 0.0001, 0.0001, 0.0001, 0.0001, 0.0001, 0.0001, 0.0001, 0.0001, 0.0001  …  0.0001, 0.0001, 0.0001, 0.0001, 0.0001, 0.0001, 0.0001, 0.0001, 0.0001, 0.0001], [433012.7018922194, 433012.70189221925, 433012.70189221937, 433012.70189221925, 433012.70189221937, 433012.70189221896, 433012.70189221937, 433012.70189221884, 433012.70189221937, 433012.7018922192  …  433012.7018922213, 433012.7018922159, 433012.7018922213, 433012.7018922158, 433012.7018922213, 433012.7018922159, 433012.7018922213, 433012.7018922159, 433012.7018922213, 433012.7018922159], [144337.56729740644 144337.56729740673 … 144337.56729740708 144337.56729740527; 144337.56729740647 144337.5672974062 … 144337.56729740708 144337.56729740524; 144337.56729740655 144337.56729740635 … 144337.56729740713 144337.56729740533], [0, 0, 0, 0, 0, 0, 0, 0, 0, 0  …  0, 0, 0, 0, 0, 0, 0, 0, 0, 0], [0, 0, 0, 0, 0, 0, 0, 0, 0, 0  …  0, 0, 0, 0, 0, 0, 0, 0, 0, 0], [0.0; 0.0; … ; 0.0; 0.0], 1, [0.0, 0.0, 2.0000000000000002e-11, 100.0, 0.0, 0.0, -100.0, -100.0, 1000.0000000000003, 866.0254037844389  …  100.0, 1000.0, 500.0, 500.0, 1.8423261548700134e-5, 7.369304619480054e-5, 1.0, 0.0, 0.5, 12500.0], Namelist(1000.0, \"uniform\", #undef, false, false, true, \"Periodic\", \"Forward_Backward\", #undef, #undef, #undef, #undef, #undef, #undef, #undef, #undef, #undef, #undef, #undef, #undef, #undef, #undef, #undef, #undef, 0.0, 0.0001, 2.0000000000000002e-11, 10.0, 1000.0, 0.001, \"default\", \"centered\", false, 100.0, 1.0e6, 2.2360679774997896e6, 180.0, 0.0, 500.0, 500.0, 1.0, 0.0, 0.5, 12500.0), 1000.0000000000003, 50000.0, 43301.27018922193, 0, 0, 0)"
      ]
     },
     "execution_count": 16,
     "metadata": {},
     "output_type": "execute_result"
    }
   ],
   "source": [
    "myMPAS_O = MPAS_Ocean(false, CODE_ROOT * \"MPAS_O_Shallow_Water/Mesh+Initial_Condition+Registry_Files/Periodic\",\n",
    "                \"base_mesh.nc\", \"mesh.nc\", periodicity=\"Periodic\"\n",
    ")"
   ]
  },
  {
   "cell_type": "code",
   "execution_count": null,
   "metadata": {},
   "outputs": [],
   "source": []
  },
  {
   "cell_type": "code",
   "execution_count": null,
   "metadata": {},
   "outputs": [],
   "source": []
  },
  {
   "cell_type": "code",
   "execution_count": 33,
   "metadata": {},
   "outputs": [],
   "source": [
    "@kernel function ComputeSSHTendency(SSHTendency,\n",
    "        @Const(normalVelocity), @Const(ssh), @Const(nEdgesOnCell), @Const(edgesOnCell), @Const(cellsOnCell),\n",
    "        @Const(bottomDepth), @Const(edgeSignOnCell), @Const(dvEdge), @Const(areaCell))\n",
    "    ## dn/dt = - divergence(h*u)\n",
    "#     SSHTendency = zeros(Float64, myMPAS_O.nCells)\n",
    "\n",
    "#     for iCell in 1:myMPAS_O.nCells\n",
    "    iCell = @index(Global)\n",
    "        # sum flux through each edge of cell\n",
    "        for i in 1:nEdgesOnCell[iCell]\n",
    "            edgeID = edgesOnCell[i,iCell]\n",
    "            neighborCellID = cellsOnCell[i,iCell]\n",
    "            \n",
    "            if neighborCellID !== 0 && edgeID !== 0 # boundary conditions: zero flux at boundaries\n",
    "                mean_depth = ( bottomDepth[neighborCellID] + bottomDepth[iCell] ) / 2.0\n",
    "                flux = mean_depth * normalVelocity[edgeID] # TODO multiply by edge length\n",
    "                SSHTendency[iCell] += flux * edgeSignOnCell[iCell,i] * dvEdge[edgeID]\n",
    "            end\n",
    "        end\n",
    "        SSHTendency[iCell] /= areaCell[iCell]\n",
    "#     end\n",
    "\n",
    "#     return SSHTendency\n",
    "end"
   ]
  },
  {
   "cell_type": "code",
   "execution_count": null,
   "metadata": {},
   "outputs": [],
   "source": []
  },
  {
   "cell_type": "code",
   "execution_count": null,
   "metadata": {},
   "outputs": [],
   "source": []
  },
  {
   "cell_type": "code",
   "execution_count": 28,
   "metadata": {},
   "outputs": [
    {
     "data": {
      "text/plain": [
       "GPU"
      ]
     },
     "execution_count": 28,
     "metadata": {},
     "output_type": "execute_result"
    }
   ],
   "source": [
    "GPU() = CUDAKernels.CUDADevice()"
   ]
  },
  {
   "cell_type": "markdown",
   "metadata": {},
   "source": [
    "## create array on GPU for output and copy things to GPU"
   ]
  },
  {
   "cell_type": "code",
   "execution_count": 39,
   "metadata": {},
   "outputs": [
    {
     "data": {
      "text/plain": [
       "2500-element CuArray{Float64, 1}:\n",
       " 866025.4037844387\n",
       " 866025.4037844387\n",
       " 866025.4037844387\n",
       " 866025.4037844387\n",
       " 866025.4037844386\n",
       " 866025.4037844387\n",
       " 866025.4037844387\n",
       " 866025.4037844387\n",
       " 866025.4037844387\n",
       " 866025.4037844387\n",
       " 866025.4037844387\n",
       " 866025.4037844387\n",
       " 866025.4037844387\n",
       "      ⋮\n",
       " 866025.4037844391\n",
       " 866025.4037844392\n",
       " 866025.4037844392\n",
       " 866025.4037844392\n",
       " 866025.4037844392\n",
       " 866025.4037844392\n",
       " 866025.4037844392\n",
       " 866025.4037844392\n",
       " 866025.4037844391\n",
       " 866025.4037844392\n",
       " 866025.4037844392\n",
       " 866025.4037844392"
      ]
     },
     "execution_count": 39,
     "metadata": {},
     "output_type": "execute_result"
    }
   ],
   "source": [
    "SSHTendency = CUDA.zeros(myMPAS_O.nCells)\n",
    "\n",
    "normalVelocity = CuArray(myMPAS_O.normalVelocityCurrent)\n",
    "ssh = CuArray(myMPAS_O.sshCurrent)\n",
    "nEdgesOnCell = CuArray(myMPAS_O.nEdgesOnCell)\n",
    "edgesOnCell = CuArray(myMPAS_O.edgesOnCell)\n",
    "cellsOnCell = CuArray(myMPAS_O.cellsOnCell)\n",
    "bottomDepth = CuArray(myMPAS_O.bottomDepth)\n",
    "edgeSignOnCell = CuArray(myMPAS_O.edgeSignOnCell)\n",
    "dvEdge = CuArray(myMPAS_O.dvEdge)\n",
    "areaCell = CuArray(myMPAS_O.areaCell)"
   ]
  },
  {
   "cell_type": "markdown",
   "metadata": {},
   "source": [
    "## create kernel function for running on GPU and execute it"
   ]
  },
  {
   "cell_type": "code",
   "execution_count": 41,
   "metadata": {},
   "outputs": [
    {
     "data": {
      "text/plain": [
       "2500-element Vector{Float64}:\n",
       " 0.0\n",
       " 0.0\n",
       " 0.0\n",
       " 0.0\n",
       " 0.0\n",
       " 0.0\n",
       " 0.0\n",
       " 0.0\n",
       " 0.0\n",
       " 0.0\n",
       " 0.0\n",
       " 0.0\n",
       " 0.0\n",
       " ⋮\n",
       " 0.0\n",
       " 0.0\n",
       " 0.0\n",
       " 0.0\n",
       " 0.0\n",
       " 0.0\n",
       " 0.0\n",
       " 0.0\n",
       " 0.0\n",
       " 0.0\n",
       " 0.0\n",
       " 0.0"
      ]
     },
     "execution_count": 41,
     "metadata": {},
     "output_type": "execute_result"
    }
   ],
   "source": [
    "kernel = ComputeSSHTendency(GPU(), 16)\n",
    "\n",
    "event = kernel(SSHTendency, normalVelocity, ssh, nEdgesOnCell, edgesOnCell,\n",
    "               cellsOnCell, bottomDepth, edgeSignOnCell, dvEdge, areaCell,\n",
    "                ndrange=size(SSHTendency))\n",
    "\n",
    "wait(event)\n",
    "\n",
    "sshTendency"
   ]
  },
  {
   "cell_type": "code",
   "execution_count": null,
   "metadata": {},
   "outputs": [],
   "source": []
  }
 ],
 "metadata": {
  "kernelspec": {
   "display_name": "Julia 1.6.1",
   "language": "julia",
   "name": "julia-1.6"
  },
  "language_info": {
   "file_extension": ".jl",
   "mimetype": "application/julia",
   "name": "julia",
   "version": "1.6.1"
  }
 },
 "nbformat": 4,
 "nbformat_minor": 4
}
