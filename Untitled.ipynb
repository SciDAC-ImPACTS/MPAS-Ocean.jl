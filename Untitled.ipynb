{
 "cells": [
  {
   "cell_type": "code",
   "execution_count": 1,
   "id": "f3ef22b3-894f-4e61-8a5d-6a1c35e4f771",
   "metadata": {},
   "outputs": [],
   "source": [
    "include(\"mode_forward/time_steppers.jl\")\n",
    "include( \"mode_init/MPAS_Ocean.jl\")\n",
    "include( \"visualization.jl\")\n",
    "\n",
    "\n",
    "using PyPlot\n",
    "using PyCall\n",
    "\n",
    "animation  = pyimport(\"matplotlib.animation\")\n",
    "ipydisplay = pyimport(\"IPython.display\")\n",
    "\n",
    "\n",
    "using LinearAlgebra # for norm()\n",
    "\n",
    "using Printf # for print formatting"
   ]
  },
  {
   "cell_type": "code",
   "execution_count": null,
   "id": "3031f490-2450-4d40-a068-83a60231101d",
   "metadata": {},
   "outputs": [],
   "source": []
  }
 ],
 "metadata": {
  "kernelspec": {
   "display_name": "Julia 1.6.1",
   "language": "julia",
   "name": "julia-1.6"
  },
  "language_info": {
   "file_extension": ".jl",
   "mimetype": "application/julia",
   "name": "julia",
   "version": "1.6.1"
  }
 },
 "nbformat": 4,
 "nbformat_minor": 5
}
