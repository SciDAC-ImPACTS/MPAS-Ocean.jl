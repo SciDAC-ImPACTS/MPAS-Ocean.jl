{
 "cells": [
  {
   "cell_type": "markdown",
   "id": "56c304cd-6fd7-43c0-bc83-b9526bd8dcd8",
   "metadata": {},
   "source": [
    "# Benchmark the CUDA timestep and its components"
   ]
  },
  {
   "cell_type": "code",
   "execution_count": 1,
   "id": "001cffc9-1713-4c36-bac6-affc1e25e2ca",
   "metadata": {},
   "outputs": [
    {
     "data": {
      "text/plain": [
       "\"/home/rrs/Desktop/MPAS_Ocean/\""
      ]
     },
     "execution_count": 1,
     "metadata": {},
     "output_type": "execute_result"
    }
   ],
   "source": [
    "CODE_ROOT = pwd() * \"/\""
   ]
  },
  {
   "cell_type": "code",
   "execution_count": 4,
   "id": "ed4029d7-0505-474d-8934-c0e3d1cafd45",
   "metadata": {},
   "outputs": [
    {
     "data": {
      "text/plain": [
       "PyObject <module 'IPython.display' from '/home/rrs/anaconda3/envs/MPAS_Ocean/lib/python3.8/site-packages/IPython/display.py'>"
      ]
     },
     "execution_count": 4,
     "metadata": {},
     "output_type": "execute_result"
    }
   ],
   "source": [
    "using PyPlot, PyCall\n",
    "animation  = pyimport(\"matplotlib.animation\")\n",
    "ipydisplay = pyimport(\"IPython.display\")"
   ]
  },
  {
   "cell_type": "code",
   "execution_count": 5,
   "id": "54acf14e-3c23-4a96-a934-4f3c6534d4ec",
   "metadata": {},
   "outputs": [],
   "source": [
    "import CUDA\n",
    "\n",
    "import CUDAKernels\n",
    "\n",
    "import KernelAbstractions"
   ]
  },
  {
   "cell_type": "code",
   "execution_count": 7,
   "id": "8aa04f1a-0aac-4cc5-8e12-1f0588e46bc2",
   "metadata": {},
   "outputs": [
    {
     "data": {
      "text/plain": [
       "1024"
      ]
     },
     "execution_count": 7,
     "metadata": {},
     "output_type": "execute_result"
    }
   ],
   "source": [
    "const MAX_THREADS_PER_BLOCK = CUDA.attribute(\n",
    "        CUDA.CuDevice(0), CUDA.DEVICE_ATTRIBUTE_MAX_THREADS_PER_BLOCK,\n",
    ")"
   ]
  },
  {
   "cell_type": "code",
   "execution_count": null,
   "id": "4841d041-0dc1-46ac-b0fd-b120c433655b",
   "metadata": {},
   "outputs": [],
   "source": []
  },
  {
   "cell_type": "markdown",
   "id": "9a60409b-245f-4c12-a352-be5f24f2c9ac",
   "metadata": {},
   "source": [
    "# Load Mesh From File"
   ]
  },
  {
   "cell_type": "code",
   "execution_count": 8,
   "id": "876088d9-ed3c-48c0-8861-424b91022c7d",
   "metadata": {},
   "outputs": [
    {
     "data": {
      "text/plain": [
       "MPAS_Ocean"
      ]
     },
     "execution_count": 8,
     "metadata": {},
     "output_type": "execute_result"
    }
   ],
   "source": [
    "mpasOcean = MPAS_Ocean(false, CODE_ROOT * \"MPAS_O_Shallow_Water/Mesh+Initial_Condition+Registry_Files/Periodic\",\n",
    "                \"base_mesh.nc\", \"mesh.nc\", periodicity=\"Periodic\"\n",
    ")\n",
    "typeof(mpasOcean)"
   ]
  },
  {
   "cell_type": "markdown",
   "id": "91a84766-d8eb-4b29-9217-7198348ef3f0",
   "metadata": {},
   "source": [
    "# Define Initial Condition"
   ]
  },
  {
   "cell_type": "code",
   "execution_count": 9,
   "id": "c579dcf9-d6d9-4a35-b5d2-fb9c8e1aaf31",
   "metadata": {},
   "outputs": [
    {
     "data": {
      "text/plain": [
       "gaussianInit! (generic function with 1 method)"
      ]
     },
     "execution_count": 9,
     "metadata": {},
     "output_type": "execute_result"
    }
   ],
   "source": [
    "function gaussianInit!(mpasOcean; sx=1/3, sy=1/3, mx=1/2, my=1/2)\n",
    "    sigmax = mpasOcean.lX*sx\n",
    "    sigmay = mpasOcean.lY*sy\n",
    "    \n",
    "    mux = mpasOcean.lX*mx\n",
    "    muy = mpasOcean.lY*my\n",
    "    \n",
    "    for iCell in 1:mpasOcean.nCells\n",
    "        mpasOcean.sshCurrent[iCell] = exp( - (mpasOcean.xCell[iCell] - mux)^2 / sigmax^2 - (mpasOcean.yCell[iCell] - muy)^2 / sigmay^2 )\n",
    "    end\n",
    "    \n",
    "    mpasOcean.normalVelocityCurrent .= 0\n",
    "    \n",
    "    return nothing\n",
    "end"
   ]
  },
  {
   "cell_type": "code",
   "execution_count": 10,
   "id": "f7f45b46-6c70-4c93-a132-776273fb2482",
   "metadata": {},
   "outputs": [
    {
     "data": {
      "text/plain": [
       "planeWaveInit! (generic function with 1 method)"
      ]
     },
     "execution_count": 10,
     "metadata": {},
     "output_type": "execute_result"
    }
   ],
   "source": [
    "function planeWaveInit!(mpasOcean; rkx = 1, rky = 1)\n",
    "    kx = rkx * 2 * pi / mpasOcean.lX\n",
    "    ky = rky * 2 * pi / mpasOcean.lY\n",
    "    \n",
    "    for iCell in 1:mpasOcean.nCells\n",
    "        mpasOcean.sshCurrent[iCell] = cos( kx * mpasOcean.xCell[iCell] + ky * mpasOcean.yCell[iCell] )\n",
    "    end\n",
    "    \n",
    "    mpasOcean.normalVelocityCurrent .= 0\n",
    "    \n",
    "    mpasOcean.sshTendency[:] .= mpasOcean.sshCurrent[:]\n",
    "    mpasOcean.normalVelocityTendency[:] .= mpasOcean.normalVelocityCurrent[:]\n",
    "    \n",
    "    return nothing\n",
    "end"
   ]
  },
  {
   "cell_type": "code",
   "execution_count": 11,
   "id": "d27b9ad2-de4c-421f-83c0-e0241b8869fe",
   "metadata": {},
   "outputs": [],
   "source": [
    "moveArrays!(mpasOcean, Array)\n",
    "\n",
    "planeWaveInit!(mpasOcean) # could also do gaussianInit!"
   ]
  },
  {
   "cell_type": "markdown",
   "id": "a2d9558a-5ec4-41a8-a39b-2b4ee7e8ef6e",
   "metadata": {},
   "source": [
    "# Benchmark GPU vs CPU"
   ]
  },
  {
   "cell_type": "code",
   "execution_count": null,
   "id": "e78a8b6d-e74f-45de-921c-b747beb11b06",
   "metadata": {},
   "outputs": [],
   "source": []
  },
  {
   "cell_type": "code",
   "execution_count": 16,
   "id": "53068d9e-45c2-4fbf-8aa3-ce35d53169b5",
   "metadata": {},
   "outputs": [],
   "source": [
    "using BenchmarkTools"
   ]
  },
  {
   "cell_type": "code",
   "execution_count": 17,
   "id": "1ef4fe4b-6628-46a8-8fa3-5d39c2e33145",
   "metadata": {},
   "outputs": [
    {
     "data": {
      "text/plain": [
       "7500-element Vector{Float64}:\n",
       " 0.0\n",
       " 0.0\n",
       " 0.0\n",
       " 0.0\n",
       " 0.0\n",
       " 0.0\n",
       " 0.0\n",
       " 0.0\n",
       " 0.0\n",
       " 0.0\n",
       " 0.0\n",
       " 0.0\n",
       " 0.0\n",
       " ⋮\n",
       " 0.0\n",
       " 0.0\n",
       " 0.0\n",
       " 0.0\n",
       " 0.0\n",
       " 0.0\n",
       " 0.0\n",
       " 0.0\n",
       " 0.0\n",
       " 0.0\n",
       " 0.0\n",
       " 0.0"
      ]
     },
     "execution_count": 17,
     "metadata": {},
     "output_type": "execute_result"
    }
   ],
   "source": [
    "moveArrays!(mpasOcean, Array)\n",
    "gaussianInit!(mpasOcean)\n",
    "# save gaussian initial condition so it doesn't have to be recalculated every time\n",
    "initialSSH = mpasOcean.sshCurrent[:]\n",
    "initialNormalVelocity = mpasOcean.normalVelocityCurrent[:]"
   ]
  },
  {
   "cell_type": "markdown",
   "id": "f8ef0da2-1a12-49ee-9f68-0dd12052dc55",
   "metadata": {},
   "source": [
    "## whole time step"
   ]
  },
  {
   "cell_type": "code",
   "execution_count": 31,
   "id": "22613487-beb0-4127-aa80-22fd9b4622a3",
   "metadata": {},
   "outputs": [
    {
     "data": {
      "text/plain": [
       "BechmarkTools.Trial: 10000 samples with 1 evaluations.\n",
       " Range \u001b[90m(\u001b[39m\u001b[36m\u001b[1mmin\u001b[22m\u001b[39m … \u001b[35mmax\u001b[39m\u001b[90m):  \u001b[39m\u001b[36m\u001b[1m18.428 μs\u001b[22m\u001b[39m … \u001b[35m 5.874 ms\u001b[39m  \u001b[90m┊\u001b[39m GC \u001b[90m(\u001b[39mmin … max\u001b[90m): \u001b[39m0.00% … 99.25%\n",
       " Time  \u001b[90m(\u001b[39m\u001b[34m\u001b[1mmedian\u001b[22m\u001b[39m\u001b[90m):     \u001b[39m\u001b[34m\u001b[1m40.187 μs              \u001b[22m\u001b[39m\u001b[90m┊\u001b[39m GC \u001b[90m(\u001b[39mmedian\u001b[90m):    \u001b[39m0.00%\n",
       " Time  \u001b[90m(\u001b[39m\u001b[32m\u001b[1mmean\u001b[22m\u001b[39m ± \u001b[32mσ\u001b[39m\u001b[90m):   \u001b[39m\u001b[32m\u001b[1m39.742 μs\u001b[22m\u001b[39m ± \u001b[32m59.536 μs\u001b[39m  \u001b[90m┊\u001b[39m GC \u001b[90m(\u001b[39mmean ± σ\u001b[90m):  \u001b[39m1.47% ±  0.99%\n",
       "\n",
       "  \u001b[39m▃\u001b[39m▄\u001b[39m▂\u001b[39m \u001b[39m \u001b[39m \u001b[39m \u001b[39m \u001b[39m \u001b[39m \u001b[39m \u001b[39m \u001b[39m \u001b[39m \u001b[39m \u001b[39m \u001b[39m \u001b[39m \u001b[39m \u001b[39m \u001b[39m \u001b[39m \u001b[39m \u001b[39m \u001b[39m \u001b[39m \u001b[39m \u001b[39m \u001b[39m \u001b[39m \u001b[39m \u001b[39m \u001b[39m \u001b[39m \u001b[39m \u001b[39m \u001b[39m \u001b[39m▁\u001b[32m▂\u001b[39m\u001b[39m▆\u001b[39m█\u001b[34m█\u001b[39m\u001b[39m▆\u001b[39m▂\u001b[39m \u001b[39m \u001b[39m \u001b[39m \u001b[39m \u001b[39m \u001b[39m \u001b[39m \u001b[39m \u001b[39m \u001b[39m \u001b[39m \u001b[39m \u001b[39m \u001b[39m \u001b[39m \u001b[39m▂\n",
       "  \u001b[39m█\u001b[39m█\u001b[39m█\u001b[39m█\u001b[39m▆\u001b[39m▄\u001b[39m▄\u001b[39m▃\u001b[39m▁\u001b[39m▄\u001b[39m▅\u001b[39m▄\u001b[39m▆\u001b[39m▅\u001b[39m▆\u001b[39m▆\u001b[39m▆\u001b[39m▄\u001b[39m▃\u001b[39m▁\u001b[39m▁\u001b[39m▁\u001b[39m▁\u001b[39m▁\u001b[39m▁\u001b[39m▁\u001b[39m▆\u001b[39m▅\u001b[39m▅\u001b[39m▅\u001b[39m▅\u001b[39m▆\u001b[39m▆\u001b[39m▆\u001b[39m▆\u001b[39m▆\u001b[39m▇\u001b[39m█\u001b[32m█\u001b[39m\u001b[39m█\u001b[39m█\u001b[34m█\u001b[39m\u001b[39m█\u001b[39m█\u001b[39m█\u001b[39m▇\u001b[39m▇\u001b[39m▇\u001b[39m▇\u001b[39m▇\u001b[39m▆\u001b[39m▆\u001b[39m▅\u001b[39m▆\u001b[39m▅\u001b[39m▅\u001b[39m▆\u001b[39m▅\u001b[39m▆\u001b[39m \u001b[39m█\n",
       "  18.4 μs\u001b[90m      \u001b[39m\u001b[90mHistogram: \u001b[39m\u001b[90m\u001b[1mlog(\u001b[22m\u001b[39m\u001b[90mfrequency\u001b[39m\u001b[90m\u001b[1m)\u001b[22m\u001b[39m\u001b[90m by time\u001b[39m      49.8 μs \u001b[0m\u001b[1m<\u001b[22m\n",
       "\n",
       " Memory estimate\u001b[90m: \u001b[39m\u001b[33m8.97 KiB\u001b[39m, allocs estimate\u001b[90m: \u001b[39m\u001b[33m178\u001b[39m."
      ]
     },
     "execution_count": 31,
     "metadata": {},
     "output_type": "execute_result"
    }
   ],
   "source": [
    "# benchmark time it takes to do a timestep on the GPU\n",
    "mpasOcean.sshCurrent[:] = initialSSH[:]\n",
    "mpasOcean.normalVelocityCurrent[:] = initialNormalVelocity[:]\n",
    "moveArrays!(mpasOcean, CUDA.CuArray)\n",
    "gpubench = @benchmark forward_backward_step_cuda!(mpasOcean)"
   ]
  },
  {
   "cell_type": "code",
   "execution_count": 32,
   "id": "2347036a-b56e-41a4-9be4-c387444b5062",
   "metadata": {},
   "outputs": [
    {
     "data": {
      "text/plain": [
       "BechmarkTools.Trial: 250 samples with 1 evaluations.\n",
       " Range \u001b[90m(\u001b[39m\u001b[36m\u001b[1mmin\u001b[22m\u001b[39m … \u001b[35mmax\u001b[39m\u001b[90m):  \u001b[39m\u001b[36m\u001b[1m17.490 ms\u001b[22m\u001b[39m … \u001b[35m29.932 ms\u001b[39m  \u001b[90m┊\u001b[39m GC \u001b[90m(\u001b[39mmin … max\u001b[90m): \u001b[39m0.00% … 15.09%\n",
       " Time  \u001b[90m(\u001b[39m\u001b[34m\u001b[1mmedian\u001b[22m\u001b[39m\u001b[90m):     \u001b[39m\u001b[34m\u001b[1m18.887 ms              \u001b[22m\u001b[39m\u001b[90m┊\u001b[39m GC \u001b[90m(\u001b[39mmedian\u001b[90m):    \u001b[39m0.00%\n",
       " Time  \u001b[90m(\u001b[39m\u001b[32m\u001b[1mmean\u001b[22m\u001b[39m ± \u001b[32mσ\u001b[39m\u001b[90m):   \u001b[39m\u001b[32m\u001b[1m20.012 ms\u001b[22m\u001b[39m ± \u001b[32m 2.178 ms\u001b[39m  \u001b[90m┊\u001b[39m GC \u001b[90m(\u001b[39mmean ± σ\u001b[90m):  \u001b[39m6.55% ±  8.76%\n",
       "\n",
       "  \u001b[39m \u001b[39m \u001b[39m \u001b[39m \u001b[39m \u001b[39m \u001b[39m▄\u001b[39m█\u001b[34m \u001b[39m\u001b[39m \u001b[39m \u001b[39m \u001b[39m \u001b[32m \u001b[39m\u001b[39m \u001b[39m \u001b[39m \u001b[39m \u001b[39m \u001b[39m \u001b[39m \u001b[39m \u001b[39m \u001b[39m \u001b[39m \u001b[39m \u001b[39m \u001b[39m \u001b[39m \u001b[39m \u001b[39m \u001b[39m \u001b[39m \u001b[39m \u001b[39m \u001b[39m \u001b[39m \u001b[39m \u001b[39m \u001b[39m \u001b[39m \u001b[39m \u001b[39m \u001b[39m \u001b[39m \u001b[39m \u001b[39m \u001b[39m \u001b[39m \u001b[39m \u001b[39m \u001b[39m \u001b[39m \u001b[39m \u001b[39m \u001b[39m \u001b[39m \u001b[39m \u001b[39m \u001b[39m \u001b[39m \n",
       "  \u001b[39m▃\u001b[39m▄\u001b[39m▆\u001b[39m▅\u001b[39m▅\u001b[39m▆\u001b[39m█\u001b[39m█\u001b[34m▆\u001b[39m\u001b[39m▃\u001b[39m▂\u001b[39m▃\u001b[39m▁\u001b[32m▂\u001b[39m\u001b[39m▁\u001b[39m▂\u001b[39m▂\u001b[39m▁\u001b[39m▁\u001b[39m▁\u001b[39m▁\u001b[39m▁\u001b[39m▂\u001b[39m▃\u001b[39m▅\u001b[39m▄\u001b[39m▄\u001b[39m▄\u001b[39m▆\u001b[39m▅\u001b[39m▃\u001b[39m▃\u001b[39m▁\u001b[39m▁\u001b[39m▂\u001b[39m▃\u001b[39m▁\u001b[39m▂\u001b[39m▁\u001b[39m▁\u001b[39m▁\u001b[39m▁\u001b[39m▂\u001b[39m▁\u001b[39m▁\u001b[39m▁\u001b[39m▁\u001b[39m▁\u001b[39m▁\u001b[39m▁\u001b[39m▁\u001b[39m▁\u001b[39m▁\u001b[39m▁\u001b[39m▁\u001b[39m▁\u001b[39m▁\u001b[39m▁\u001b[39m▂\u001b[39m \u001b[39m▃\n",
       "  17.5 ms\u001b[90m         Histogram: frequency by time\u001b[39m        28.4 ms \u001b[0m\u001b[1m<\u001b[22m\n",
       "\n",
       " Memory estimate\u001b[90m: \u001b[39m\u001b[33m17.05 MiB\u001b[39m, allocs estimate\u001b[90m: \u001b[39m\u001b[33m955191\u001b[39m."
      ]
     },
     "execution_count": 32,
     "metadata": {},
     "output_type": "execute_result"
    }
   ],
   "source": [
    "# benchmark time it takes to do a timestep on the CPU\n",
    "moveArrays!(mpasOcean, Array)\n",
    "mpasOcean.sshCurrent[:] = initialSSH[:]\n",
    "mpasOcean.normalVelocityCurrent[:] = initialNormalVelocity[:]\n",
    "cpubench = @benchmark forward_backward_step!(mpasOcean)"
   ]
  },
  {
   "cell_type": "code",
   "execution_count": 20,
   "id": "89012553-ce72-4a6d-b70c-2d7c2ccd1cb9",
   "metadata": {},
   "outputs": [
    {
     "data": {
      "text/plain": [
       "\"CUDA kernel evaluation is 463.5924088194348 times faster than the CPU evaluation on average\""
      ]
     },
     "execution_count": 20,
     "metadata": {},
     "output_type": "execute_result"
    }
   ],
   "source": [
    "\"CUDA kernel evaluation is $((sum(cpubench.times)/length(cpubench.times)) / (sum(gpubench.times)/length(gpubench.times))) times faster than the CPU evaluation on average\""
   ]
  },
  {
   "cell_type": "code",
   "execution_count": null,
   "id": "d3199128-cfac-4758-b638-6e62b3bc1c11",
   "metadata": {},
   "outputs": [],
   "source": []
  },
  {
   "cell_type": "markdown",
   "id": "c3e76ed1-ae76-4002-92cc-c2ac8a35a2b9",
   "metadata": {},
   "source": [
    "### normal velocty tendency calculation only"
   ]
  },
  {
   "cell_type": "code",
   "execution_count": 21,
   "id": "1e0ebc72-cc7a-4e0e-8c30-79c9280d35b9",
   "metadata": {},
   "outputs": [
    {
     "data": {
      "text/plain": [
       "BechmarkTools.Trial: 10000 samples with 7 evaluations.\n",
       " Range \u001b[90m(\u001b[39m\u001b[36m\u001b[1mmin\u001b[22m\u001b[39m … \u001b[35mmax\u001b[39m\u001b[90m):  \u001b[39m\u001b[36m\u001b[1m 4.501 μs\u001b[22m\u001b[39m … \u001b[35m743.442 μs\u001b[39m  \u001b[90m┊\u001b[39m GC \u001b[90m(\u001b[39mmin … max\u001b[90m): \u001b[39m0.00% … 97.60%\n",
       " Time  \u001b[90m(\u001b[39m\u001b[34m\u001b[1mmedian\u001b[22m\u001b[39m\u001b[90m):     \u001b[39m\u001b[34m\u001b[1m20.223 μs               \u001b[22m\u001b[39m\u001b[90m┊\u001b[39m GC \u001b[90m(\u001b[39mmedian\u001b[90m):    \u001b[39m0.00%\n",
       " Time  \u001b[90m(\u001b[39m\u001b[32m\u001b[1mmean\u001b[22m\u001b[39m ± \u001b[32mσ\u001b[39m\u001b[90m):   \u001b[39m\u001b[32m\u001b[1m20.198 μs\u001b[22m\u001b[39m ± \u001b[32m 15.009 μs\u001b[39m  \u001b[90m┊\u001b[39m GC \u001b[90m(\u001b[39mmean ± σ\u001b[90m):  \u001b[39m1.43% ±  1.95%\n",
       "\n",
       "  \u001b[39m▃\u001b[39m \u001b[39m \u001b[39m \u001b[39m \u001b[39m \u001b[39m \u001b[39m \u001b[39m \u001b[39m \u001b[39m \u001b[39m \u001b[39m \u001b[39m \u001b[39m \u001b[39m \u001b[39m \u001b[39m \u001b[39m \u001b[39m \u001b[39m \u001b[39m \u001b[39m \u001b[39m \u001b[39m \u001b[39m \u001b[39m \u001b[39m \u001b[39m \u001b[39m \u001b[39m \u001b[39m \u001b[39m \u001b[39m \u001b[39m \u001b[39m \u001b[39m \u001b[39m \u001b[39m \u001b[39m \u001b[39m \u001b[39m \u001b[39m \u001b[39m \u001b[39m \u001b[39m \u001b[39m \u001b[39m \u001b[39m \u001b[39m \u001b[39m \u001b[32m \u001b[39m\u001b[39m▄\u001b[34m█\u001b[39m\u001b[39m \u001b[39m \u001b[39m \u001b[39m \u001b[39m \u001b[39m \u001b[39m \u001b[39m▁\n",
       "  \u001b[39m█\u001b[39m█\u001b[39m▄\u001b[39m▃\u001b[39m▁\u001b[39m▁\u001b[39m▄\u001b[39m▄\u001b[39m▄\u001b[39m▁\u001b[39m▄\u001b[39m▃\u001b[39m▁\u001b[39m▁\u001b[39m▁\u001b[39m▁\u001b[39m▃\u001b[39m▁\u001b[39m▁\u001b[39m▁\u001b[39m▁\u001b[39m▁\u001b[39m▁\u001b[39m▁\u001b[39m▁\u001b[39m▁\u001b[39m▁\u001b[39m▁\u001b[39m▁\u001b[39m▁\u001b[39m▃\u001b[39m▁\u001b[39m▁\u001b[39m▃\u001b[39m▁\u001b[39m▁\u001b[39m▁\u001b[39m▃\u001b[39m▁\u001b[39m▁\u001b[39m▁\u001b[39m▁\u001b[39m▃\u001b[39m▄\u001b[39m▄\u001b[39m▅\u001b[39m▇\u001b[39m▇\u001b[39m▆\u001b[39m▆\u001b[39m▆\u001b[32m▆\u001b[39m\u001b[39m█\u001b[34m█\u001b[39m\u001b[39m▆\u001b[39m▆\u001b[39m▆\u001b[39m▆\u001b[39m▆\u001b[39m▇\u001b[39m \u001b[39m█\n",
       "  4.5 μs\u001b[90m        \u001b[39m\u001b[90mHistogram: \u001b[39m\u001b[90m\u001b[1mlog(\u001b[22m\u001b[39m\u001b[90mfrequency\u001b[39m\u001b[90m\u001b[1m)\u001b[22m\u001b[39m\u001b[90m by time\u001b[39m      22.2 μs \u001b[0m\u001b[1m<\u001b[22m\n",
       "\n",
       " Memory estimate\u001b[90m: \u001b[39m\u001b[33m3.08 KiB\u001b[39m, allocs estimate\u001b[90m: \u001b[39m\u001b[33m57\u001b[39m."
      ]
     },
     "execution_count": 21,
     "metadata": {},
     "output_type": "execute_result"
    }
   ],
   "source": [
    "mpasOcean.sshCurrent[:] = initialSSH[:]\n",
    "mpasOcean.normalVelocityCurrent[:] = initialNormalVelocity[:]\n",
    "moveArrays!(mpasOcean, CUDA.CuArray)\n",
    "gpubench = @benchmark calculate_normal_velocity_tendency_cuda!(mpasOcean)"
   ]
  },
  {
   "cell_type": "code",
   "execution_count": 22,
   "id": "6b9e95d9-24f5-417a-869f-1d0beca37d67",
   "metadata": {},
   "outputs": [
    {
     "data": {
      "text/plain": [
       "BechmarkTools.Trial: 307 samples with 1 evaluations.\n",
       " Range \u001b[90m(\u001b[39m\u001b[36m\u001b[1mmin\u001b[22m\u001b[39m … \u001b[35mmax\u001b[39m\u001b[90m):  \u001b[39m\u001b[36m\u001b[1m14.158 ms\u001b[22m\u001b[39m … \u001b[35m21.202 ms\u001b[39m  \u001b[90m┊\u001b[39m GC \u001b[90m(\u001b[39mmin … max\u001b[90m): \u001b[39m0.00% … 19.17%\n",
       " Time  \u001b[90m(\u001b[39m\u001b[34m\u001b[1mmedian\u001b[22m\u001b[39m\u001b[90m):     \u001b[39m\u001b[34m\u001b[1m15.531 ms              \u001b[22m\u001b[39m\u001b[90m┊\u001b[39m GC \u001b[90m(\u001b[39mmedian\u001b[90m):    \u001b[39m0.00%\n",
       " Time  \u001b[90m(\u001b[39m\u001b[32m\u001b[1mmean\u001b[22m\u001b[39m ± \u001b[32mσ\u001b[39m\u001b[90m):   \u001b[39m\u001b[32m\u001b[1m16.294 ms\u001b[22m\u001b[39m ± \u001b[32m 1.730 ms\u001b[39m  \u001b[90m┊\u001b[39m GC \u001b[90m(\u001b[39mmean ± σ\u001b[90m):  \u001b[39m6.43% ±  9.40%\n",
       "\n",
       "  \u001b[39m \u001b[39m \u001b[39m \u001b[39m \u001b[39m \u001b[39m \u001b[39m \u001b[39m \u001b[39m▁\u001b[39m█\u001b[39m \u001b[39m \u001b[39m▄\u001b[34m▆\u001b[39m\u001b[39m \u001b[39m \u001b[39m \u001b[39m \u001b[39m \u001b[39m \u001b[32m \u001b[39m\u001b[39m \u001b[39m \u001b[39m \u001b[39m \u001b[39m \u001b[39m \u001b[39m \u001b[39m \u001b[39m \u001b[39m \u001b[39m \u001b[39m \u001b[39m \u001b[39m \u001b[39m \u001b[39m \u001b[39m \u001b[39m \u001b[39m \u001b[39m \u001b[39m \u001b[39m \u001b[39m \u001b[39m \u001b[39m \u001b[39m \u001b[39m \u001b[39m \u001b[39m \u001b[39m \u001b[39m \u001b[39m \u001b[39m \u001b[39m \u001b[39m \u001b[39m \u001b[39m \u001b[39m \u001b[39m \u001b[39m \n",
       "  \u001b[39m▄\u001b[39m▃\u001b[39m▄\u001b[39m▃\u001b[39m▅\u001b[39m▄\u001b[39m▄\u001b[39m▆\u001b[39m█\u001b[39m█\u001b[39m▅\u001b[39m█\u001b[39m█\u001b[34m█\u001b[39m\u001b[39m█\u001b[39m▆\u001b[39m▅\u001b[39m▅\u001b[39m▁\u001b[39m▂\u001b[32m▂\u001b[39m\u001b[39m▂\u001b[39m▂\u001b[39m▂\u001b[39m▁\u001b[39m▁\u001b[39m▁\u001b[39m▁\u001b[39m▂\u001b[39m▁\u001b[39m▂\u001b[39m▁\u001b[39m▁\u001b[39m▁\u001b[39m▁\u001b[39m▁\u001b[39m▁\u001b[39m▃\u001b[39m▃\u001b[39m▃\u001b[39m▃\u001b[39m▄\u001b[39m▃\u001b[39m▄\u001b[39m▃\u001b[39m▆\u001b[39m▅\u001b[39m▅\u001b[39m▃\u001b[39m▄\u001b[39m▂\u001b[39m▃\u001b[39m▂\u001b[39m▂\u001b[39m▄\u001b[39m▄\u001b[39m▂\u001b[39m▂\u001b[39m▂\u001b[39m \u001b[39m▃\n",
       "  14.2 ms\u001b[90m         Histogram: frequency by time\u001b[39m        20.3 ms \u001b[0m\u001b[1m<\u001b[22m\n",
       "\n",
       " Memory estimate\u001b[90m: \u001b[39m\u001b[33m13.24 MiB\u001b[39m, allocs estimate\u001b[90m: \u001b[39m\u001b[33m725293\u001b[39m."
      ]
     },
     "execution_count": 22,
     "metadata": {},
     "output_type": "execute_result"
    }
   ],
   "source": [
    "moveArrays!(mpasOcean, Array)\n",
    "mpasOcean.sshCurrent[:] = initialSSH[:]\n",
    "mpasOcean.normalVelocityCurrent[:] = initialNormalVelocity[:]\n",
    "cpubench = @benchmark calculate_normal_velocity_tendency!(mpasOcean)"
   ]
  },
  {
   "cell_type": "code",
   "execution_count": 23,
   "id": "efb5d065-cf97-4d4e-8697-6ca78f2183e6",
   "metadata": {},
   "outputs": [
    {
     "data": {
      "text/plain": [
       "\"CUDA kernel evaluation is 806.7136301657602 times faster than the CPU evaluation on average\""
      ]
     },
     "execution_count": 23,
     "metadata": {},
     "output_type": "execute_result"
    }
   ],
   "source": [
    "\"CUDA kernel evaluation is $((sum(cpubench.times)/length(cpubench.times)) / (sum(gpubench.times)/length(gpubench.times))) times faster than the CPU evaluation on average\""
   ]
  },
  {
   "cell_type": "markdown",
   "id": "7d8576e5-364c-4988-9286-dfe540e55026",
   "metadata": {},
   "source": [
    "### experimenting with making method more effecient"
   ]
  },
  {
   "cell_type": "code",
   "execution_count": 25,
   "id": "2ed0a515-35d5-4f65-9c45-1d97e03157e8",
   "metadata": {},
   "outputs": [
    {
     "data": {
      "text/plain": [
       "calculate_normal_velocity_tendency_cuda2! (generic function with 1 method)"
      ]
     },
     "execution_count": 25,
     "metadata": {},
     "output_type": "execute_result"
    }
   ],
   "source": [
    "function calculate_normal_velocity_tendency_cuda2!(mpasOcean::MPAS_Ocean)\n",
    "    \n",
    "    CUDA.@cuda blocks=cld(mpasOcean.nEdges, 1024) threads=1024 maxregs=64 calculate_normal_velocity_tendency_cuda_kernel2!(\n",
    "                                                                        mpasOcean.nEdges,\n",
    "                                                                        mpasOcean.normalVelocityTendency,\n",
    "                                                                        mpasOcean.normalVelocityCurrent,\n",
    "                                                                        mpasOcean.sshCurrent,\n",
    "                                                                        mpasOcean.cellsOnEdge,\n",
    "                                                                        mpasOcean.nEdgesOnEdge,\n",
    "                                                                        mpasOcean.edgesOnEdge,\n",
    "                                                                        mpasOcean.weightsOnEdge,\n",
    "                                                                        mpasOcean.fEdge,\n",
    "                                                                        mpasOcean.dcEdge,\n",
    "                                                                        mpasOcean.gravity)\n",
    "end"
   ]
  },
  {
   "cell_type": "code",
   "execution_count": 26,
   "id": "51ded0c5-010e-42c0-b0c6-acc3e44693d2",
   "metadata": {},
   "outputs": [
    {
     "data": {
      "text/plain": [
       "calculate_normal_velocity_tendency_cuda_kernel2! (generic function with 1 method)"
      ]
     },
     "execution_count": 26,
     "metadata": {},
     "output_type": "execute_result"
    }
   ],
   "source": [
    "function calculate_normal_velocity_tendency_cuda_kernel2!(nEdges,\n",
    "                                                          normalVelocityTendency,\n",
    "                                                          normalVelocity,\n",
    "                                                          ssh,\n",
    "                                                          cellsOnEdge,\n",
    "                                                          nEdgesOnEdge,\n",
    "                                                          edgesOnEdge,\n",
    "                                                          weightsOnEdge,\n",
    "                                                          fEdge,\n",
    "                                                          dcEdge,\n",
    "                                                          gravity)\n",
    "    \n",
    "    iEdge = (CUDA.blockIdx().x - 1) * CUDA.blockDim().x + CUDA.threadIdx().x\n",
    "    if iEdge <= nEdges\n",
    "        # read global memory into thread registers\n",
    "        cell1 = cellsOnEdge[1,iEdge]\n",
    "        ssh1 = ssh[cell1]\n",
    "        cell2 = cellsOnEdge[2,iEdge]\n",
    "        ssh2 = ssh[cell2]\n",
    "        dc = dcEdge[iEdge]\n",
    "        neoe = nEdgesOnEdge[iEdge]\n",
    "        \n",
    "#         eoes = edgesOnEdge[iEdge]\n",
    "        \n",
    "        \n",
    "        \n",
    "        # gravity term: take gradient of ssh across edge\n",
    "        tendency = gravity * ( ssh1 - ssh2 ) / dc\n",
    "\n",
    "        # coriolis term: combine norm. vel. of surrounding edges to approx. tangential vel.\n",
    "        for i = 1:neoe\n",
    "            eoe = edgesOnEdge[i,iEdge]\n",
    "            tendency += weightsOnEdge[i,iEdge] * normalVelocity[eoe] * fEdge[eoe]\n",
    "        end\n",
    "\n",
    "        normalVelocityTendency[iEdge] = tendency\n",
    "    end\n",
    "    return\n",
    "end"
   ]
  },
  {
   "cell_type": "code",
   "execution_count": null,
   "id": "1fc4de33-b2b7-45fc-8479-fa777f8bde7d",
   "metadata": {},
   "outputs": [],
   "source": [
    "function calculate_ssh_tendency_cuda_kernel2!(nCells,\n",
    "                                              sshTendency,\n",
    "                                              ssh,\n",
    "                                              normalVelocity,\n",
    "                                              bottomDepth,\n",
    "                                              nEdgesOnCell,\n",
    "                                              edgesOnCell,\n",
    "                                              cellsOnCell,\n",
    "                                              areaCell,\n",
    "                                              edgeSignOnCell,\n",
    "                                              dvEdge)\n",
    "    \n",
    "    iCell = (CUDA.blockIdx().x - 1) * CUDA.blockDim().x + CUDA.threadIdx().x\n",
    "    if iCell <= nCells\n",
    "        \n",
    "        sshTendency[iCell] = 0\n",
    "        \n",
    "        # sum flux through each edge of cell\n",
    "        for i in 1:nEdgesOnCell[iCell]\n",
    "            edgeID = edgesOnCell[i,iCell]\n",
    "            neighborCellID = cellsOnCell[i,iCell]\n",
    "\n",
    "            if neighborCellID !== 0\n",
    "                depth = ( bottomDepth[neighborCellID] + bottomDepth[iCell] ) / 2.0\n",
    "            else\n",
    "                depth = bottomDepth[iCell]\n",
    "            end\n",
    "            \n",
    "            flux = depth * normalVelocity[edgeID]\n",
    "            sshTendency[iCell] += flux * edgeSignOnCell[iCell,i] * dvEdge[edgeID] / areaCell[iCell]\n",
    "        end\n",
    "        \n",
    "    end\n",
    "    return\n",
    "end\n"
   ]
  },
  {
   "cell_type": "code",
   "execution_count": 27,
   "id": "f7ac8c2d-58fa-42bf-a4d9-b3b50aeaa9a8",
   "metadata": {},
   "outputs": [
    {
     "ename": "LoadError",
     "evalue": "GPU compilation of kernel calculate_normal_velocity_tendency_cuda_kernel2!(Int64, CUDA.CuDeviceVector{Float64, 1}, CUDA.CuDeviceVector{Float64, 1}, CUDA.CuDeviceVector{Float64, 1}, CUDA.CuDeviceMatrix{Int32, 1}, CUDA.CuDeviceVector{Int32, 1}, Vector{Any}, CUDA.CuDeviceMatrix{Float64, 1}, CUDA.CuDeviceVector{Float64, 1}, CUDA.CuDeviceVector{Float64, 1}, Float64) failed\nKernelError: passing and using non-bitstype argument\n\nArgument 8 to your kernel function is of type Vector{Any}, which is not isbits:\n\n",
     "output_type": "error",
     "traceback": [
      "GPU compilation of kernel calculate_normal_velocity_tendency_cuda_kernel2!(Int64, CUDA.CuDeviceVector{Float64, 1}, CUDA.CuDeviceVector{Float64, 1}, CUDA.CuDeviceVector{Float64, 1}, CUDA.CuDeviceMatrix{Int32, 1}, CUDA.CuDeviceVector{Int32, 1}, Vector{Any}, CUDA.CuDeviceMatrix{Float64, 1}, CUDA.CuDeviceVector{Float64, 1}, CUDA.CuDeviceVector{Float64, 1}, Float64) failed\nKernelError: passing and using non-bitstype argument\n\nArgument 8 to your kernel function is of type Vector{Any}, which is not isbits:\n\n",
      "",
      "Stacktrace:",
      "  [1] check_invocation(job::GPUCompiler.CompilerJob)",
      "    @ GPUCompiler ~/.julia/packages/GPUCompiler/wHjqZ/src/validation.jl:66",
      "  [2] macro expansion",
      "    @ ~/.julia/packages/GPUCompiler/wHjqZ/src/driver.jl:318 [inlined]",
      "  [3] macro expansion",
      "    @ ~/.julia/packages/TimerOutputs/ZQ0rt/src/TimerOutput.jl:236 [inlined]",
      "  [4] macro expansion",
      "    @ ~/.julia/packages/GPUCompiler/wHjqZ/src/driver.jl:317 [inlined]",
      "  [5] emit_asm(job::GPUCompiler.CompilerJob, ir::LLVM.Module; strip::Bool, validate::Bool, format::LLVM.API.LLVMCodeGenFileType)",
      "    @ GPUCompiler ~/.julia/packages/GPUCompiler/wHjqZ/src/utils.jl:62",
      "  [6] cufunction_compile(job::GPUCompiler.CompilerJob)",
      "    @ CUDA ~/.julia/packages/CUDA/02Kjq/src/compiler/execution.jl:317",
      "  [7] cached_compilation(cache::Dict{UInt64, Any}, job::GPUCompiler.CompilerJob, compiler::typeof(CUDA.cufunction_compile), linker::typeof(CUDA.cufunction_link))",
      "    @ GPUCompiler ~/.julia/packages/GPUCompiler/wHjqZ/src/cache.jl:89",
      "  [8] cufunction(f::typeof(calculate_normal_velocity_tendency_cuda_kernel2!), tt::Type{Tuple{Int64, CUDA.CuDeviceVector{Float64, 1}, CUDA.CuDeviceVector{Float64, 1}, CUDA.CuDeviceVector{Float64, 1}, CUDA.CuDeviceMatrix{Int32, 1}, CUDA.CuDeviceVector{Int32, 1}, Vector{Any}, CUDA.CuDeviceMatrix{Float64, 1}, CUDA.CuDeviceVector{Float64, 1}, CUDA.CuDeviceVector{Float64, 1}, Float64}}; name::Nothing, kwargs::Base.Iterators.Pairs{Symbol, Int64, Tuple{Symbol}, NamedTuple{(:maxregs,), Tuple{Int64}}})",
      "    @ CUDA ~/.julia/packages/CUDA/02Kjq/src/compiler/execution.jl:288",
      "  [9] macro expansion",
      "    @ ~/.julia/packages/CUDA/02Kjq/src/compiler/execution.jl:102 [inlined]",
      " [10] calculate_normal_velocity_tendency_cuda2!(mpasOcean::MPAS_Ocean)",
      "    @ Main ./In[25]:3",
      " [11] var\"##core#426\"()",
      "    @ Main ~/.julia/packages/BenchmarkTools/Rqvks/src/execution.jl:479",
      " [12] var\"##sample#427\"(__params::BenchmarkTools.Parameters)",
      "    @ Main ~/.julia/packages/BenchmarkTools/Rqvks/src/execution.jl:485",
      " [13] _run(b::BenchmarkTools.Benchmark, p::BenchmarkTools.Parameters; verbose::Bool, pad::String, kwargs::Base.Iterators.Pairs{Symbol, Integer, NTuple{4, Symbol}, NamedTuple{(:samples, :evals, :gctrial, :gcsample), Tuple{Int64, Int64, Bool, Bool}}})",
      "    @ BenchmarkTools ~/.julia/packages/BenchmarkTools/Rqvks/src/execution.jl:98",
      " [14] #invokelatest#2",
      "    @ ./essentials.jl:710 [inlined]",
      " [15] #run_result#45",
      "    @ ~/.julia/packages/BenchmarkTools/Rqvks/src/execution.jl:33 [inlined]",
      " [16] run(b::BenchmarkTools.Benchmark, p::BenchmarkTools.Parameters; progressid::Nothing, nleaves::Float64, ndone::Float64, kwargs::Base.Iterators.Pairs{Symbol, Integer, NTuple{5, Symbol}, NamedTuple{(:verbose, :samples, :evals, :gctrial, :gcsample), Tuple{Bool, Int64, Int64, Bool, Bool}}})",
      "    @ BenchmarkTools ~/.julia/packages/BenchmarkTools/Rqvks/src/execution.jl:116",
      " [17] #warmup#54",
      "    @ ~/.julia/packages/BenchmarkTools/Rqvks/src/execution.jl:168 [inlined]",
      " [18] warmup(item::BenchmarkTools.Benchmark)",
      "    @ BenchmarkTools ~/.julia/packages/BenchmarkTools/Rqvks/src/execution.jl:168",
      " [19] top-level scope",
      "    @ ~/.julia/packages/BenchmarkTools/Rqvks/src/execution.jl:387",
      " [20] eval",
      "    @ ./boot.jl:360 [inlined]",
      " [21] include_string(mapexpr::typeof(REPL.softscope), mod::Module, code::String, filename::String)",
      "    @ Base ./loading.jl:1094"
     ]
    }
   ],
   "source": [
    "mpasOcean.sshCurrent[:] = initialSSH[:]\n",
    "mpasOcean.normalVelocityCurrent[:] = initialNormalVelocity[:]\n",
    "moveArrays!(mpasOcean, CUDA.CuArray)\n",
    "gpubench = @benchmark calculate_normal_velocity_tendency_cuda2!(mpasOcean)"
   ]
  },
  {
   "cell_type": "code",
   "execution_count": null,
   "id": "4db268c0-40db-4597-950e-bb30a9349e8b",
   "metadata": {},
   "outputs": [],
   "source": []
  },
  {
   "cell_type": "code",
   "execution_count": null,
   "id": "a2ea356a-cfed-40d0-bfcf-a37085dab248",
   "metadata": {},
   "outputs": [],
   "source": []
  },
  {
   "cell_type": "code",
   "execution_count": null,
   "id": "00c4c336-8934-4867-be2f-fc8045374137",
   "metadata": {},
   "outputs": [],
   "source": []
  },
  {
   "cell_type": "code",
   "execution_count": null,
   "id": "fbb3ce11-4ea4-48fc-aa5c-8cac47b8259a",
   "metadata": {},
   "outputs": [],
   "source": []
  },
  {
   "cell_type": "code",
   "execution_count": null,
   "id": "d0ee331b-0ecc-407c-8ff1-f5c4db58d86f",
   "metadata": {},
   "outputs": [],
   "source": []
  },
  {
   "cell_type": "code",
   "execution_count": null,
   "id": "eb814cdd-9de9-4cf0-9b75-2d32c605db64",
   "metadata": {},
   "outputs": [],
   "source": []
  },
  {
   "cell_type": "markdown",
   "id": "c33461b5-b8fa-409e-8ef2-68e114f2b83c",
   "metadata": {},
   "source": [
    "### ssh tendency calculation only"
   ]
  },
  {
   "cell_type": "code",
   "execution_count": 25,
   "id": "740f7b78-5a0e-4ffa-acd2-e89a3c964fa3",
   "metadata": {},
   "outputs": [
    {
     "data": {
      "text/plain": [
       "BechmarkTools.Trial: 10000 samples with 7 evaluations.\n",
       " Range \u001b[90m(\u001b[39m\u001b[36m\u001b[1mmin\u001b[22m\u001b[39m … \u001b[35mmax\u001b[39m\u001b[90m):  \u001b[39m\u001b[36m\u001b[1m 4.374 μs\u001b[22m\u001b[39m … \u001b[35m760.519 μs\u001b[39m  \u001b[90m┊\u001b[39m GC \u001b[90m(\u001b[39mmin … max\u001b[90m): \u001b[39m0.00% … 96.73%\n",
       " Time  \u001b[90m(\u001b[39m\u001b[34m\u001b[1mmedian\u001b[22m\u001b[39m\u001b[90m):     \u001b[39m\u001b[34m\u001b[1m27.183 μs               \u001b[22m\u001b[39m\u001b[90m┊\u001b[39m GC \u001b[90m(\u001b[39mmedian\u001b[90m):    \u001b[39m0.00%\n",
       " Time  \u001b[90m(\u001b[39m\u001b[32m\u001b[1mmean\u001b[22m\u001b[39m ± \u001b[32mσ\u001b[39m\u001b[90m):   \u001b[39m\u001b[32m\u001b[1m27.210 μs\u001b[22m\u001b[39m ± \u001b[32m 14.107 μs\u001b[39m  \u001b[90m┊\u001b[39m GC \u001b[90m(\u001b[39mmean ± σ\u001b[90m):  \u001b[39m0.81% ±  1.69%\n",
       "\n",
       "  \u001b[39m▃\u001b[39m \u001b[39m \u001b[39m \u001b[39m \u001b[39m \u001b[39m \u001b[39m \u001b[39m \u001b[39m \u001b[39m \u001b[39m \u001b[39m \u001b[39m \u001b[39m \u001b[39m \u001b[39m \u001b[39m \u001b[39m \u001b[39m \u001b[39m \u001b[39m \u001b[39m \u001b[39m \u001b[39m \u001b[39m \u001b[34m█\u001b[39m\u001b[39m \u001b[39m \u001b[39m \u001b[39m \u001b[39m \u001b[39m \u001b[39m \u001b[39m \u001b[39m \u001b[39m \u001b[39m \u001b[39m \u001b[39m \u001b[39m \u001b[39m \u001b[39m \u001b[39m \u001b[39m \u001b[39m \u001b[39m \u001b[39m \u001b[39m \u001b[39m \u001b[39m \u001b[39m \u001b[39m \u001b[39m \u001b[39m \u001b[39m \u001b[39m \u001b[39m \u001b[39m \u001b[39m \u001b[39m \u001b[39m▁\n",
       "  \u001b[39m█\u001b[39m▄\u001b[39m▄\u001b[39m▃\u001b[39m▁\u001b[39m▃\u001b[39m▃\u001b[39m▁\u001b[39m▁\u001b[39m▁\u001b[39m▁\u001b[39m▃\u001b[39m▁\u001b[39m▁\u001b[39m▁\u001b[39m▁\u001b[39m▁\u001b[39m▁\u001b[39m▃\u001b[39m▃\u001b[39m▁\u001b[39m▃\u001b[39m▄\u001b[39m▇\u001b[39m█\u001b[39m█\u001b[34m█\u001b[39m\u001b[39m█\u001b[39m▇\u001b[39m▄\u001b[39m▄\u001b[39m▁\u001b[39m▁\u001b[39m▁\u001b[39m▁\u001b[39m▁\u001b[39m▁\u001b[39m▁\u001b[39m▁\u001b[39m▁\u001b[39m▄\u001b[39m▁\u001b[39m▁\u001b[39m▃\u001b[39m▄\u001b[39m▄\u001b[39m▃\u001b[39m▁\u001b[39m▁\u001b[39m▁\u001b[39m▁\u001b[39m▁\u001b[39m▁\u001b[39m▄\u001b[39m▁\u001b[39m▅\u001b[39m▆\u001b[39m▄\u001b[39m▃\u001b[39m▆\u001b[39m \u001b[39m█\n",
       "  4.37 μs\u001b[90m       \u001b[39m\u001b[90mHistogram: \u001b[39m\u001b[90m\u001b[1mlog(\u001b[22m\u001b[39m\u001b[90mfrequency\u001b[39m\u001b[90m\u001b[1m)\u001b[22m\u001b[39m\u001b[90m by time\u001b[39m      56.2 μs \u001b[0m\u001b[1m<\u001b[22m\n",
       "\n",
       " Memory estimate\u001b[90m: \u001b[39m\u001b[33m3.11 KiB\u001b[39m, allocs estimate\u001b[90m: \u001b[39m\u001b[33m55\u001b[39m."
      ]
     },
     "execution_count": 25,
     "metadata": {},
     "output_type": "execute_result"
    }
   ],
   "source": [
    "mpasOcean.sshCurrent[:] = initialSSH[:]\n",
    "mpasOcean.normalVelocityCurrent[:] = initialNormalVelocity[:]\n",
    "moveArrays!(mpasOcean, CUDA.CuArray)\n",
    "gpubench = @benchmark calculate_ssh_tendency_cuda!(mpasOcean)"
   ]
  },
  {
   "cell_type": "code",
   "execution_count": 26,
   "id": "40b193e9-320f-4725-8d14-28e377bc14a0",
   "metadata": {},
   "outputs": [
    {
     "data": {
      "text/plain": [
       "BechmarkTools.Trial: 1283 samples with 1 evaluations.\n",
       " Range \u001b[90m(\u001b[39m\u001b[36m\u001b[1mmin\u001b[22m\u001b[39m … \u001b[35mmax\u001b[39m\u001b[90m):  \u001b[39m\u001b[36m\u001b[1m3.539 ms\u001b[22m\u001b[39m … \u001b[35m  7.596 ms\u001b[39m  \u001b[90m┊\u001b[39m GC \u001b[90m(\u001b[39mmin … max\u001b[90m): \u001b[39m0.00% … 41.13%\n",
       " Time  \u001b[90m(\u001b[39m\u001b[34m\u001b[1mmedian\u001b[22m\u001b[39m\u001b[90m):     \u001b[39m\u001b[34m\u001b[1m3.672 ms               \u001b[22m\u001b[39m\u001b[90m┊\u001b[39m GC \u001b[90m(\u001b[39mmedian\u001b[90m):    \u001b[39m0.00%\n",
       " Time  \u001b[90m(\u001b[39m\u001b[32m\u001b[1mmean\u001b[22m\u001b[39m ± \u001b[32mσ\u001b[39m\u001b[90m):   \u001b[39m\u001b[32m\u001b[1m3.895 ms\u001b[22m\u001b[39m ± \u001b[32m746.883 μs\u001b[39m  \u001b[90m┊\u001b[39m GC \u001b[90m(\u001b[39mmean ± σ\u001b[90m):  \u001b[39m5.31% ± 11.34%\n",
       "\n",
       "  \u001b[39m▂\u001b[39m▆\u001b[34m█\u001b[39m\u001b[39m▄\u001b[39m▄\u001b[39m▃\u001b[32m \u001b[39m\u001b[39m \u001b[39m \u001b[39m \u001b[39m \u001b[39m \u001b[39m \u001b[39m \u001b[39m \u001b[39m \u001b[39m \u001b[39m \u001b[39m \u001b[39m \u001b[39m \u001b[39m \u001b[39m \u001b[39m \u001b[39m \u001b[39m \u001b[39m \u001b[39m \u001b[39m \u001b[39m \u001b[39m \u001b[39m \u001b[39m \u001b[39m \u001b[39m \u001b[39m \u001b[39m \u001b[39m \u001b[39m \u001b[39m \u001b[39m \u001b[39m \u001b[39m \u001b[39m \u001b[39m \u001b[39m \u001b[39m \u001b[39m \u001b[39m \u001b[39m \u001b[39m \u001b[39m \u001b[39m \u001b[39m \u001b[39m▁\u001b[39m \u001b[39m \u001b[39m \u001b[39m \u001b[39m \u001b[39m \n",
       "  \u001b[39m█\u001b[39m█\u001b[34m█\u001b[39m\u001b[39m█\u001b[39m█\u001b[39m█\u001b[32m▇\u001b[39m\u001b[39m▅\u001b[39m▆\u001b[39m▆\u001b[39m▁\u001b[39m▁\u001b[39m▄\u001b[39m▄\u001b[39m▄\u001b[39m▄\u001b[39m▄\u001b[39m▁\u001b[39m▁\u001b[39m▅\u001b[39m▆\u001b[39m▄\u001b[39m▄\u001b[39m▁\u001b[39m▁\u001b[39m▁\u001b[39m▁\u001b[39m▁\u001b[39m▁\u001b[39m▁\u001b[39m▁\u001b[39m▁\u001b[39m▁\u001b[39m▁\u001b[39m▁\u001b[39m▁\u001b[39m▁\u001b[39m▁\u001b[39m▁\u001b[39m▁\u001b[39m▁\u001b[39m▁\u001b[39m▁\u001b[39m▁\u001b[39m▁\u001b[39m▁\u001b[39m▁\u001b[39m▁\u001b[39m▁\u001b[39m▁\u001b[39m▁\u001b[39m▄\u001b[39m▇\u001b[39m█\u001b[39m█\u001b[39m█\u001b[39m▇\u001b[39m▇\u001b[39m▆\u001b[39m \u001b[39m█\n",
       "  3.54 ms\u001b[90m      \u001b[39m\u001b[90mHistogram: \u001b[39m\u001b[90m\u001b[1mlog(\u001b[22m\u001b[39m\u001b[90mfrequency\u001b[39m\u001b[90m\u001b[1m)\u001b[22m\u001b[39m\u001b[90m by time\u001b[39m      6.69 ms \u001b[0m\u001b[1m<\u001b[22m\n",
       "\n",
       " Memory estimate\u001b[90m: \u001b[39m\u001b[33m3.81 MiB\u001b[39m, allocs estimate\u001b[90m: \u001b[39m\u001b[33m229892\u001b[39m."
      ]
     },
     "execution_count": 26,
     "metadata": {},
     "output_type": "execute_result"
    }
   ],
   "source": [
    "moveArrays!(mpasOcean, Array)\n",
    "mpasOcean.sshCurrent[:] = initialSSH[:]\n",
    "mpasOcean.normalVelocityCurrent[:] = initialNormalVelocity[:]\n",
    "cpubench = @benchmark calculate_ssh_tendency!(mpasOcean)"
   ]
  },
  {
   "cell_type": "code",
   "execution_count": 27,
   "id": "e15dcca4-6f62-422f-81cb-da13dfea9023",
   "metadata": {},
   "outputs": [
    {
     "data": {
      "text/plain": [
       "\"CUDA kernel evaluation is 143.1461720325683 times faster than the CPU evaluation on average\""
      ]
     },
     "execution_count": 27,
     "metadata": {},
     "output_type": "execute_result"
    }
   ],
   "source": [
    "\"CUDA kernel evaluation is $((sum(cpubench.times)/length(cpubench.times)) / (sum(gpubench.times)/length(gpubench.times))) times faster than the CPU evaluation on average\""
   ]
  },
  {
   "cell_type": "code",
   "execution_count": null,
   "id": "0bf22b5f-3d3c-4db9-a35c-ab7bdc52eec7",
   "metadata": {},
   "outputs": [],
   "source": []
  },
  {
   "cell_type": "markdown",
   "id": "ff89cb68-fb75-401b-9bfe-9656766f2284",
   "metadata": {},
   "source": [
    "### update norm vel"
   ]
  },
  {
   "cell_type": "code",
   "execution_count": 28,
   "id": "f57aff32-dd55-4733-a25e-10111c700e98",
   "metadata": {},
   "outputs": [
    {
     "data": {
      "text/plain": [
       "BechmarkTools.Trial: 10000 samples with 8 evaluations.\n",
       " Range \u001b[90m(\u001b[39m\u001b[36m\u001b[1mmin\u001b[22m\u001b[39m … \u001b[35mmax\u001b[39m\u001b[90m):  \u001b[39m\u001b[36m\u001b[1m3.152 μs\u001b[22m\u001b[39m … \u001b[35m735.304 μs\u001b[39m  \u001b[90m┊\u001b[39m GC \u001b[90m(\u001b[39mmin … max\u001b[90m): \u001b[39m0.00% … 99.27%\n",
       " Time  \u001b[90m(\u001b[39m\u001b[34m\u001b[1mmedian\u001b[22m\u001b[39m\u001b[90m):     \u001b[39m\u001b[34m\u001b[1m3.337 μs               \u001b[22m\u001b[39m\u001b[90m┊\u001b[39m GC \u001b[90m(\u001b[39mmedian\u001b[90m):    \u001b[39m0.00%\n",
       " Time  \u001b[90m(\u001b[39m\u001b[32m\u001b[1mmean\u001b[22m\u001b[39m ± \u001b[32mσ\u001b[39m\u001b[90m):   \u001b[39m\u001b[32m\u001b[1m3.535 μs\u001b[22m\u001b[39m ± \u001b[32m 10.279 μs\u001b[39m  \u001b[90m┊\u001b[39m GC \u001b[90m(\u001b[39mmean ± σ\u001b[90m):  \u001b[39m4.10% ±  1.40%\n",
       "\n",
       "  \u001b[39m \u001b[39m \u001b[39m \u001b[39m█\u001b[39m█\u001b[34m▇\u001b[39m\u001b[32m▅\u001b[39m\u001b[39m▁\u001b[39m \u001b[39m \u001b[39m \u001b[39m \u001b[39m \u001b[39m \u001b[39m \u001b[39m \u001b[39m \u001b[39m \u001b[39m \u001b[39m \u001b[39m \u001b[39m \u001b[39m \u001b[39m \u001b[39m \u001b[39m \u001b[39m \u001b[39m \u001b[39m \u001b[39m \u001b[39m \u001b[39m \u001b[39m \u001b[39m \u001b[39m \u001b[39m \u001b[39m \u001b[39m \u001b[39m \u001b[39m \u001b[39m \u001b[39m \u001b[39m \u001b[39m \u001b[39m \u001b[39m \u001b[39m \u001b[39m \u001b[39m \u001b[39m \u001b[39m \u001b[39m \u001b[39m \u001b[39m \u001b[39m \u001b[39m \u001b[39m \u001b[39m \u001b[39m \u001b[39m \u001b[39m \n",
       "  \u001b[39m▂\u001b[39m▂\u001b[39m▆\u001b[39m█\u001b[39m█\u001b[34m█\u001b[39m\u001b[32m█\u001b[39m\u001b[39m█\u001b[39m▆\u001b[39m▅\u001b[39m▄\u001b[39m▃\u001b[39m▃\u001b[39m▃\u001b[39m▃\u001b[39m▂\u001b[39m▂\u001b[39m▂\u001b[39m▂\u001b[39m▂\u001b[39m▂\u001b[39m▂\u001b[39m▂\u001b[39m▂\u001b[39m▂\u001b[39m▂\u001b[39m▂\u001b[39m▁\u001b[39m▂\u001b[39m▁\u001b[39m▁\u001b[39m▁\u001b[39m▁\u001b[39m▁\u001b[39m▁\u001b[39m▁\u001b[39m▁\u001b[39m▁\u001b[39m▁\u001b[39m▁\u001b[39m▁\u001b[39m▁\u001b[39m▁\u001b[39m▁\u001b[39m▁\u001b[39m▁\u001b[39m▁\u001b[39m▁\u001b[39m▁\u001b[39m▁\u001b[39m▂\u001b[39m▂\u001b[39m▂\u001b[39m▂\u001b[39m▂\u001b[39m▂\u001b[39m▂\u001b[39m▂\u001b[39m▂\u001b[39m \u001b[39m▃\n",
       "  3.15 μs\u001b[90m         Histogram: frequency by time\u001b[39m        5.14 μs \u001b[0m\u001b[1m<\u001b[22m\n",
       "\n",
       " Memory estimate\u001b[90m: \u001b[39m\u001b[33m1.39 KiB\u001b[39m, allocs estimate\u001b[90m: \u001b[39m\u001b[33m33\u001b[39m."
      ]
     },
     "execution_count": 28,
     "metadata": {},
     "output_type": "execute_result"
    }
   ],
   "source": [
    "mpasOcean.sshCurrent[:] = initialSSH[:]\n",
    "mpasOcean.normalVelocityCurrent[:] = initialNormalVelocity[:]\n",
    "moveArrays!(mpasOcean, CUDA.CuArray)\n",
    "gpubench = @benchmark update_normal_velocity_by_tendency_cuda!(mpasOcean)"
   ]
  },
  {
   "cell_type": "code",
   "execution_count": 29,
   "id": "58a56399-2a09-4d0b-be6e-bd6f72fe6985",
   "metadata": {},
   "outputs": [
    {
     "data": {
      "text/plain": [
       "BechmarkTools.Trial: 10000 samples with 10 evaluations.\n",
       " Range \u001b[90m(\u001b[39m\u001b[36m\u001b[1mmin\u001b[22m\u001b[39m … \u001b[35mmax\u001b[39m\u001b[90m):  \u001b[39m\u001b[36m\u001b[1m1.454 μs\u001b[22m\u001b[39m … \u001b[35m  5.509 μs\u001b[39m  \u001b[90m┊\u001b[39m GC \u001b[90m(\u001b[39mmin … max\u001b[90m): \u001b[39m0.00% … 0.00%\n",
       " Time  \u001b[90m(\u001b[39m\u001b[34m\u001b[1mmedian\u001b[22m\u001b[39m\u001b[90m):     \u001b[39m\u001b[34m\u001b[1m1.545 μs               \u001b[22m\u001b[39m\u001b[90m┊\u001b[39m GC \u001b[90m(\u001b[39mmedian\u001b[90m):    \u001b[39m0.00%\n",
       " Time  \u001b[90m(\u001b[39m\u001b[32m\u001b[1mmean\u001b[22m\u001b[39m ± \u001b[32mσ\u001b[39m\u001b[90m):   \u001b[39m\u001b[32m\u001b[1m1.580 μs\u001b[22m\u001b[39m ± \u001b[32m286.345 ns\u001b[39m  \u001b[90m┊\u001b[39m GC \u001b[90m(\u001b[39mmean ± σ\u001b[90m):  \u001b[39m0.00% ± 0.00%\n",
       "\n",
       "  \u001b[39m \u001b[39m▃\u001b[39m▂\u001b[34m█\u001b[39m\u001b[32m▁\u001b[39m\u001b[39m \u001b[39m \u001b[39m \u001b[39m \u001b[39m \u001b[39m \u001b[39m \u001b[39m \u001b[39m \u001b[39m \u001b[39m \u001b[39m \u001b[39m \u001b[39m \u001b[39m \u001b[39m \u001b[39m \u001b[39m \u001b[39m \u001b[39m \u001b[39m \u001b[39m \u001b[39m \u001b[39m \u001b[39m \u001b[39m \u001b[39m \u001b[39m \u001b[39m \u001b[39m \u001b[39m \u001b[39m \u001b[39m \u001b[39m \u001b[39m \u001b[39m \u001b[39m \u001b[39m \u001b[39m \u001b[39m \u001b[39m \u001b[39m \u001b[39m \u001b[39m \u001b[39m \u001b[39m \u001b[39m \u001b[39m \u001b[39m \u001b[39m \u001b[39m \u001b[39m \u001b[39m \u001b[39m \u001b[39m \u001b[39m \n",
       "  \u001b[39m▆\u001b[39m█\u001b[39m█\u001b[34m█\u001b[39m\u001b[32m█\u001b[39m\u001b[39m▄\u001b[39m▂\u001b[39m▂\u001b[39m▂\u001b[39m▂\u001b[39m▂\u001b[39m▂\u001b[39m▂\u001b[39m▂\u001b[39m▁\u001b[39m▂\u001b[39m▂\u001b[39m▁\u001b[39m▁\u001b[39m▁\u001b[39m▁\u001b[39m▁\u001b[39m▁\u001b[39m▁\u001b[39m▁\u001b[39m▁\u001b[39m▁\u001b[39m▁\u001b[39m▁\u001b[39m▁\u001b[39m▁\u001b[39m▁\u001b[39m▁\u001b[39m▁\u001b[39m▁\u001b[39m▁\u001b[39m▂\u001b[39m▁\u001b[39m▁\u001b[39m▁\u001b[39m▁\u001b[39m▁\u001b[39m▁\u001b[39m▁\u001b[39m▁\u001b[39m▂\u001b[39m▂\u001b[39m▂\u001b[39m▂\u001b[39m▂\u001b[39m▂\u001b[39m▂\u001b[39m▂\u001b[39m▂\u001b[39m▂\u001b[39m▂\u001b[39m▂\u001b[39m▂\u001b[39m▂\u001b[39m \u001b[39m▂\n",
       "  1.45 μs\u001b[90m         Histogram: frequency by time\u001b[39m        3.14 μs \u001b[0m\u001b[1m<\u001b[22m\n",
       "\n",
       " Memory estimate\u001b[90m: \u001b[39m\u001b[33m80 bytes\u001b[39m, allocs estimate\u001b[90m: \u001b[39m\u001b[33m3\u001b[39m."
      ]
     },
     "execution_count": 29,
     "metadata": {},
     "output_type": "execute_result"
    }
   ],
   "source": [
    "moveArrays!(mpasOcean, Array)\n",
    "mpasOcean.sshCurrent[:] = initialSSH[:]\n",
    "mpasOcean.normalVelocityCurrent[:] = initialNormalVelocity[:]\n",
    "cpubench = @benchmark update_normal_velocity_by_tendency!(mpasOcean)"
   ]
  },
  {
   "cell_type": "code",
   "execution_count": 30,
   "id": "68e9e39b-6921-454d-ad58-faa34113c02f",
   "metadata": {},
   "outputs": [
    {
     "data": {
      "text/plain": [
       "\"CUDA kernel evaluation is 0.44711592195483957 times faster than the CPU evaluation on average\""
      ]
     },
     "execution_count": 30,
     "metadata": {},
     "output_type": "execute_result"
    }
   ],
   "source": [
    "\"CUDA kernel evaluation is $((sum(cpubench.times)/length(cpubench.times)) / (sum(gpubench.times)/length(gpubench.times))) times faster than the CPU evaluation on average\""
   ]
  },
  {
   "cell_type": "markdown",
   "id": "86a55a48-c1ce-45bd-b47e-6d8ea9149071",
   "metadata": {},
   "source": [
    "### update ssh"
   ]
  },
  {
   "cell_type": "code",
   "execution_count": 31,
   "id": "c42e6776-2fb3-40d2-ab97-bdbfbb2042cb",
   "metadata": {},
   "outputs": [
    {
     "data": {
      "text/plain": [
       "BechmarkTools.Trial: 10000 samples with 8 evaluations.\n",
       " Range \u001b[90m(\u001b[39m\u001b[36m\u001b[1mmin\u001b[22m\u001b[39m … \u001b[35mmax\u001b[39m\u001b[90m):  \u001b[39m\u001b[36m\u001b[1m3.021 μs\u001b[22m\u001b[39m … \u001b[35m729.140 μs\u001b[39m  \u001b[90m┊\u001b[39m GC \u001b[90m(\u001b[39mmin … max\u001b[90m): \u001b[39m0.00% … 99.33%\n",
       " Time  \u001b[90m(\u001b[39m\u001b[34m\u001b[1mmedian\u001b[22m\u001b[39m\u001b[90m):     \u001b[39m\u001b[34m\u001b[1m3.220 μs               \u001b[22m\u001b[39m\u001b[90m┊\u001b[39m GC \u001b[90m(\u001b[39mmedian\u001b[90m):    \u001b[39m0.00%\n",
       " Time  \u001b[90m(\u001b[39m\u001b[32m\u001b[1mmean\u001b[22m\u001b[39m ± \u001b[32mσ\u001b[39m\u001b[90m):   \u001b[39m\u001b[32m\u001b[1m3.348 μs\u001b[22m\u001b[39m ± \u001b[32m  7.266 μs\u001b[39m  \u001b[90m┊\u001b[39m GC \u001b[90m(\u001b[39mmean ± σ\u001b[90m):  \u001b[39m2.16% ±  0.99%\n",
       "\n",
       "  \u001b[39m \u001b[39m \u001b[39m \u001b[39m▃\u001b[39m█\u001b[39m█\u001b[34m▆\u001b[39m\u001b[32m▄\u001b[39m\u001b[39m▁\u001b[39m \u001b[39m \u001b[39m \u001b[39m \u001b[39m \u001b[39m \u001b[39m \u001b[39m \u001b[39m \u001b[39m \u001b[39m \u001b[39m \u001b[39m \u001b[39m \u001b[39m \u001b[39m \u001b[39m \u001b[39m \u001b[39m \u001b[39m \u001b[39m \u001b[39m \u001b[39m \u001b[39m \u001b[39m \u001b[39m \u001b[39m \u001b[39m \u001b[39m \u001b[39m \u001b[39m \u001b[39m \u001b[39m \u001b[39m \u001b[39m \u001b[39m \u001b[39m \u001b[39m \u001b[39m \u001b[39m \u001b[39m \u001b[39m \u001b[39m \u001b[39m \u001b[39m \u001b[39m \u001b[39m \u001b[39m \u001b[39m \u001b[39m \u001b[39m \u001b[39m \n",
       "  \u001b[39m▂\u001b[39m▃\u001b[39m▆\u001b[39m█\u001b[39m█\u001b[39m█\u001b[34m█\u001b[39m\u001b[32m█\u001b[39m\u001b[39m█\u001b[39m▆\u001b[39m▄\u001b[39m▄\u001b[39m▄\u001b[39m▃\u001b[39m▃\u001b[39m▃\u001b[39m▃\u001b[39m▂\u001b[39m▂\u001b[39m▂\u001b[39m▂\u001b[39m▂\u001b[39m▂\u001b[39m▂\u001b[39m▂\u001b[39m▂\u001b[39m▂\u001b[39m▂\u001b[39m▂\u001b[39m▂\u001b[39m▂\u001b[39m▁\u001b[39m▁\u001b[39m▂\u001b[39m▂\u001b[39m▁\u001b[39m▁\u001b[39m▁\u001b[39m▁\u001b[39m▁\u001b[39m▁\u001b[39m▁\u001b[39m▁\u001b[39m▁\u001b[39m▁\u001b[39m▁\u001b[39m▁\u001b[39m▁\u001b[39m▁\u001b[39m▁\u001b[39m▂\u001b[39m▂\u001b[39m▂\u001b[39m▂\u001b[39m▂\u001b[39m▂\u001b[39m▂\u001b[39m▂\u001b[39m▂\u001b[39m \u001b[39m▃\n",
       "  320 μs\u001b[90m          Histogram: frequency by time\u001b[39m        4.94 μs \u001b[0m\u001b[1m<\u001b[22m\n",
       "\n",
       " Memory estimate\u001b[90m: \u001b[39m\u001b[33m1.39 KiB\u001b[39m, allocs estimate\u001b[90m: \u001b[39m\u001b[33m33\u001b[39m."
      ]
     },
     "execution_count": 31,
     "metadata": {},
     "output_type": "execute_result"
    }
   ],
   "source": [
    "mpasOcean.sshCurrent[:] = initialSSH[:]\n",
    "mpasOcean.normalVelocityCurrent[:] = initialNormalVelocity[:]\n",
    "moveArrays!(mpasOcean, CUDA.CuArray)\n",
    "gpubench = @benchmark update_ssh_by_tendency_cuda!(mpasOcean)"
   ]
  },
  {
   "cell_type": "code",
   "execution_count": 32,
   "id": "7cc917e9-a5e6-4475-98f9-0e2f07428d95",
   "metadata": {},
   "outputs": [
    {
     "data": {
      "text/plain": [
       "BechmarkTools.Trial: 10000 samples with 162 evaluations.\n",
       " Range \u001b[90m(\u001b[39m\u001b[36m\u001b[1mmin\u001b[22m\u001b[39m … \u001b[35mmax\u001b[39m\u001b[90m):  \u001b[39m\u001b[36m\u001b[1m664.253 ns\u001b[22m\u001b[39m … \u001b[35m 27.238 μs\u001b[39m  \u001b[90m┊\u001b[39m GC \u001b[90m(\u001b[39mmin … max\u001b[90m): \u001b[39m0.00% … 97.05%\n",
       " Time  \u001b[90m(\u001b[39m\u001b[34m\u001b[1mmedian\u001b[22m\u001b[39m\u001b[90m):     \u001b[39m\u001b[34m\u001b[1m713.883 ns               \u001b[22m\u001b[39m\u001b[90m┊\u001b[39m GC \u001b[90m(\u001b[39mmedian\u001b[90m):    \u001b[39m0.00%\n",
       " Time  \u001b[90m(\u001b[39m\u001b[32m\u001b[1mmean\u001b[22m\u001b[39m ± \u001b[32mσ\u001b[39m\u001b[90m):   \u001b[39m\u001b[32m\u001b[1m722.487 ns\u001b[22m\u001b[39m ± \u001b[32m371.018 ns\u001b[39m  \u001b[90m┊\u001b[39m GC \u001b[90m(\u001b[39mmean ± σ\u001b[90m):  \u001b[39m0.72% ±  1.37%\n",
       "\n",
       "  \u001b[39m \u001b[39m \u001b[39m \u001b[39m \u001b[39m \u001b[39m \u001b[39m \u001b[39m \u001b[39m \u001b[39m▁\u001b[39m▂\u001b[39m▃\u001b[39m▄\u001b[39m█\u001b[34m▇\u001b[39m\u001b[39m▃\u001b[39m▂\u001b[39m▁\u001b[39m \u001b[39m \u001b[39m \u001b[39m \u001b[39m \u001b[39m \u001b[39m \u001b[39m \u001b[39m \u001b[39m \u001b[39m \u001b[39m \u001b[39m \u001b[39m \u001b[39m \u001b[39m \u001b[39m \u001b[39m \u001b[39m \u001b[39m \u001b[39m \u001b[39m \u001b[39m \u001b[39m \u001b[39m \u001b[39m \u001b[39m \u001b[39m \u001b[39m \u001b[39m \u001b[39m \u001b[39m \u001b[39m \u001b[39m \u001b[39m \u001b[39m \u001b[39m \u001b[39m \u001b[39m \u001b[39m \u001b[39m \u001b[39m \u001b[39m \u001b[39m \u001b[39m \n",
       "  \u001b[39m▂\u001b[39m▂\u001b[39m▃\u001b[39m▄\u001b[39m▄\u001b[39m▆\u001b[39m█\u001b[39m▇\u001b[39m▇\u001b[39m█\u001b[39m█\u001b[39m█\u001b[39m█\u001b[39m█\u001b[34m█\u001b[39m\u001b[39m█\u001b[39m█\u001b[39m█\u001b[39m▇\u001b[39m▇\u001b[39m▆\u001b[39m▅\u001b[39m▄\u001b[39m▄\u001b[39m▃\u001b[39m▂\u001b[39m▂\u001b[39m▂\u001b[39m▂\u001b[39m▂\u001b[39m▂\u001b[39m▂\u001b[39m▂\u001b[39m▂\u001b[39m▂\u001b[39m▂\u001b[39m▂\u001b[39m▂\u001b[39m▂\u001b[39m▂\u001b[39m▂\u001b[39m▂\u001b[39m▂\u001b[39m▂\u001b[39m▂\u001b[39m▂\u001b[39m▂\u001b[39m▂\u001b[39m▁\u001b[39m▁\u001b[39m▂\u001b[39m▂\u001b[39m▂\u001b[39m▂\u001b[39m▂\u001b[39m▂\u001b[39m▂\u001b[39m▂\u001b[39m▂\u001b[39m▂\u001b[39m▂\u001b[39m \u001b[39m▃\n",
       "  664 ns\u001b[90m           Histogram: frequency by time\u001b[39m          885 ns \u001b[0m\u001b[1m<\u001b[22m\n",
       "\n",
       " Memory estimate\u001b[90m: \u001b[39m\u001b[33m80 bytes\u001b[39m, allocs estimate\u001b[90m: \u001b[39m\u001b[33m3\u001b[39m."
      ]
     },
     "execution_count": 32,
     "metadata": {},
     "output_type": "execute_result"
    }
   ],
   "source": [
    "moveArrays!(mpasOcean, Array)\n",
    "mpasOcean.sshCurrent[:] = initialSSH[:]\n",
    "mpasOcean.normalVelocityCurrent[:] = initialNormalVelocity[:]\n",
    "cpubench = @benchmark update_ssh_by_tendency!(mpasOcean)"
   ]
  },
  {
   "cell_type": "code",
   "execution_count": 33,
   "id": "d4921538-2d22-4cbe-9442-258d520e4ce5",
   "metadata": {},
   "outputs": [
    {
     "data": {
      "text/plain": [
       "\"CUDA kernel evaluation is 0.21581601461375574 times faster than the CPU evaluation on average\""
      ]
     },
     "execution_count": 33,
     "metadata": {},
     "output_type": "execute_result"
    }
   ],
   "source": [
    "\"CUDA kernel evaluation is $((sum(cpubench.times)/length(cpubench.times)) / (sum(gpubench.times)/length(gpubench.times))) times faster than the CPU evaluation on average\""
   ]
  },
  {
   "cell_type": "code",
   "execution_count": null,
   "id": "e8095822-89ee-457b-9836-4fd204757c71",
   "metadata": {},
   "outputs": [],
   "source": []
  },
  {
   "cell_type": "code",
   "execution_count": null,
   "id": "04f06cd7-24a4-4d30-b500-b994530833b4",
   "metadata": {},
   "outputs": [],
   "source": []
  },
  {
   "cell_type": "code",
   "execution_count": null,
   "id": "d446e838-6b4e-4a99-a02d-a066d84233ef",
   "metadata": {},
   "outputs": [],
   "source": []
  }
 ],
 "metadata": {
  "kernelspec": {
   "display_name": "Julia 1.6.1",
   "language": "julia",
   "name": "julia-1.6"
  },
  "language_info": {
   "file_extension": ".jl",
   "mimetype": "application/julia",
   "name": "julia",
   "version": "1.6.1"
  }
 },
 "nbformat": 4,
 "nbformat_minor": 5
}
